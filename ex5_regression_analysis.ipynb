{
 "cells": [
  {
   "cell_type": "markdown",
   "metadata": {},
   "source": [
    "# Ex 5: Simple and multiple linear regression analysis\n"
   ]
  },
  {
   "cell_type": "markdown",
   "metadata": {},
   "source": [
    "**Background**\n",
    "\n",
    "In regression analysis a relation is made between a dependent variable $Y$ (i.e. the one one wants to estimate) and one or a number of independent variables $X_i$. The objective(s) of establishing a regression model may be manifold, like:\n",
    "1. Making forecasts/predictions/estimates on Y based on data of the independent variable(s)\n",
    "2. Investigation of a functional relationship between two or more variables\n",
    "3. Filling in missing data in the Y-series\n",
    "4. Validation of Y-series\n",
    "\n",
    "**Simple Linear Regression**\n",
    "\n",
    "Simple linear regression is an approach for predicting a quantitative response using a single feature (or \"predictor\" or \"input variable\"). It takes the following form for one independent variable:\n",
    "\n",
    "$y = \\alpha + \\beta x $\n",
    "\n",
    " - $y$ is the response or the dependent variable\n",
    " - $x$ is the independent variable\n",
    " - $\\alpha$ is the intercept\n",
    " - $\\beta$ is the slope or the trend\n",
    "\n",
    "Together, $\\alpha$ and $\\beta$ are called the model coefficients. To create your model, you must find the values of these coefficients.\n",
    "\n",
    "**Multiple Linear Regression**\n",
    "\n",
    "Multiple linear regression is an approach for predicting a quantitative response using a multiple features (or \"predictors\" or \"input variables\"). It takes the following form for the $p$ independent variables $X_i$ where $i=1,2,..,p$:\n",
    "\n",
    "$\\hat{y} = \\beta_0 + \\sum_{i=1}^{p}{\\beta_i x_i}$\n",
    "\n",
    "$ = \\beta_0 + \\beta_1x_1 + \\beta_2x_2 + \\cdot \\cdot \\cdot + \\beta_px_p$\n",
    "\n",
    " - $\\hat{y}$ is the response or the dependent variable\n",
    " - $x_i$ is the independent variable number $i$\n",
    " - $\\beta_0$ is the intercept\n",
    " - $\\beta_i$ is the coefficient for $x_i$\n",
    " - $p$ is the number of independent variables\n",
    "\n",
    "Notice that for $p$=1 (one independent variable), the equation becomes the simple linear regression (where $\\alpha=\\beta_0$ and $\\beta=\\beta_1$)."
   ]
  },
  {
   "cell_type": "code",
   "execution_count": 1,
   "metadata": {},
   "outputs": [],
   "source": [
    "import statsmodels.formula.api as smf  # module to run ordinary least squares analysis\n",
    "# how to create a fitted model:\n",
    "#linfit = smf.ols(formula='dep_var ~ ind_var', data=df).fit()\n",
    "\n",
    "# examples of how to get results:\n",
    "#print(linfit.summary()) #summary table of the regression analysis\n",
    "#print(linfit.params)\n",
    "#print(linfit.rsquared)\n",
    "#print(linfit.bse)\n",
    "#print(dir(linfit)) #for all possible attributes\n",
    "\n",
    "# where:\n",
    "# dep_var = dependent variables\n",
    "# ind_var = independent variables\n",
    "# df = dataframe with column dep_var and ind_var\n",
    "\n",
    "import numpy as np\n",
    "import pandas as pd\n",
    "import scipy.stats as st\n",
    "import matplotlib.pyplot as plt"
   ]
  },
  {
   "cell_type": "markdown",
   "metadata": {},
   "source": [
    "### Question 1: Simple linear regression\n",
    "\n",
    "Temperature data for November 1977 is available from Falun (Dalarna), Gävle (Gästrikland) and Knon (Värmland) in the file *temp_falun.dat*. For Falun the data series is not complete.\n",
    "\n",
    "We want to fill the missing data for Falun using the best correlated data set of the three possible data sets:\n",
    "\n",
    "1. Only the data from Gävle \n",
    "2. Only the data from Knon\n",
    "3. Both Gävle and Knon and the information about distances (Gävle-Falun $ =82$ km, Knon-Falun $ =110$ km)\n",
    "\n",
    "*Hint: inverse distance weighting method can be used to create the third dataset.*\n",
    "\n",
    "$T_{Gavle+Knon} = \\frac{\\left(\\frac{1}{82}\\right)^2}{\\left(\\frac{1}{82}\\right)^2 + \\left(\\frac{1}{110}\\right)^2}T_{Gavle} + \\frac{\\left(\\frac{1}{110}\\right)^2}{\\left(\\frac{1}{82}\\right)^2 + \\left(\\frac{1}{110}\\right)^2}T_{Knon}$  (1)"
   ]
  },
  {
   "cell_type": "code",
   "execution_count": 2,
   "metadata": {},
   "outputs": [
    {
     "data": {
      "text/html": [
       "<div>\n",
       "<style scoped>\n",
       "    .dataframe tbody tr th:only-of-type {\n",
       "        vertical-align: middle;\n",
       "    }\n",
       "\n",
       "    .dataframe tbody tr th {\n",
       "        vertical-align: top;\n",
       "    }\n",
       "\n",
       "    .dataframe thead th {\n",
       "        text-align: right;\n",
       "    }\n",
       "</style>\n",
       "<table border=\"1\" class=\"dataframe\">\n",
       "  <thead>\n",
       "    <tr style=\"text-align: right;\">\n",
       "      <th></th>\n",
       "      <th>T_Falun</th>\n",
       "      <th>T_Gavle</th>\n",
       "      <th>T_Knon</th>\n",
       "    </tr>\n",
       "    <tr>\n",
       "      <th>Day</th>\n",
       "      <th></th>\n",
       "      <th></th>\n",
       "      <th></th>\n",
       "    </tr>\n",
       "  </thead>\n",
       "  <tbody>\n",
       "    <tr>\n",
       "      <th>1</th>\n",
       "      <td>8.2</td>\n",
       "      <td>9.0</td>\n",
       "      <td>6.5</td>\n",
       "    </tr>\n",
       "    <tr>\n",
       "      <th>2</th>\n",
       "      <td>6.4</td>\n",
       "      <td>7.8</td>\n",
       "      <td>4.8</td>\n",
       "    </tr>\n",
       "    <tr>\n",
       "      <th>3</th>\n",
       "      <td>5.9</td>\n",
       "      <td>5.7</td>\n",
       "      <td>5.5</td>\n",
       "    </tr>\n",
       "    <tr>\n",
       "      <th>4</th>\n",
       "      <td>6.3</td>\n",
       "      <td>6.6</td>\n",
       "      <td>5.6</td>\n",
       "    </tr>\n",
       "    <tr>\n",
       "      <th>5</th>\n",
       "      <td>2.8</td>\n",
       "      <td>4.5</td>\n",
       "      <td>3.4</td>\n",
       "    </tr>\n",
       "  </tbody>\n",
       "</table>\n",
       "</div>"
      ],
      "text/plain": [
       "     T_Falun  T_Gavle  T_Knon\n",
       "Day                          \n",
       "1        8.2      9.0     6.5\n",
       "2        6.4      7.8     4.8\n",
       "3        5.9      5.7     5.5\n",
       "4        6.3      6.6     5.6\n",
       "5        2.8      4.5     3.4"
      ]
     },
     "execution_count": 2,
     "metadata": {},
     "output_type": "execute_result"
    }
   ],
   "source": [
    "# Reading in the temperature data from Falun, Gävle and Knon\n",
    "T_data = pd.read_csv('temp_falun.dat', index_col = 0, sep='\\t')\n",
    "T_data.head()"
   ]
  },
  {
   "cell_type": "markdown",
   "metadata": {},
   "source": [
    "**a)** Compute the correlation between Falun and (1), (2) and (3) and determine which one shall be used as the independent variable."
   ]
  },
  {
   "cell_type": "markdown",
   "metadata": {},
   "source": [
    "In order to find the correlation between the temperature at Falun and the two other places around, I find the Pearson correlation coefficient. This is because I assume that the relationships between the temperature are likely to be linear, and the Pearson coefficient gives me the linear correlation. The same goes for the correlation between Falun and the dataset composed of temperatures from both places, weighted with distance. "
   ]
  },
  {
   "cell_type": "code",
   "execution_count": 3,
   "metadata": {},
   "outputs": [
    {
     "name": "stdout",
     "output_type": "stream",
     "text": [
      "The Pearson correlation coefficient is:\n",
      "0.984 between the temperature at Falun and at Gävle.\n",
      "0.970 between the temperature at Falun and at Knon.\n",
      "0.993 between the temperature at Falun and the temperature and both Gävle and Knon, weighted with distance.\n"
     ]
    }
   ],
   "source": [
    "N = len(T_data['T_Falun'].dropna())\n",
    "\n",
    "# Pearson Correlation Coefficient between the data from Falun and Gävle\n",
    "\n",
    "corr_G_F = st.pearsonr(T_data['T_Falun'].dropna(), T_data['T_Gavle'].loc[:N])\n",
    "\n",
    "# Pearson Correlation Coefficient between the data from Falun and Knon\n",
    "\n",
    "corr_K_F = st.pearsonr(T_data['T_Falun'].dropna(), T_data['T_Knon'].loc[:N])\n",
    "\n",
    "# Pearson Correlation Coefficient between the data from Falun and the data from both Gävle and Knon\n",
    "# (weighted with distance)\n",
    "\n",
    "GFdist = 82 # Distance between Gävle and Falun [km]\n",
    "KFdist = 110 # Distance between Knon and Falun [km]\n",
    "\n",
    "# Using inverse distance weighting method\n",
    "A = (1./GFdist)**2\n",
    "B = (1./KFdist)**2\n",
    "T_data['T_Gavle_Knon'] = A/(A + B)*T_data['T_Gavle'] + B/(A + B)*T_data['T_Knon']\n",
    "\n",
    "corr_G_K_F = st.pearsonr(T_data['T_Falun'].dropna(), T_data['T_Gavle_Knon'].loc[:N])\n",
    "\n",
    "print('The Pearson correlation coefficient is:')\n",
    "print('%.3f between the temperature at Falun and at Gävle.' %corr_G_F[0])\n",
    "print('%.3f between the temperature at Falun and at Knon.' %corr_K_F[0])\n",
    "print('%.3f between the temperature at Falun and the temperature and both Gävle and Knon, weighted with distance.' %corr_G_K_F[0])"
   ]
  },
  {
   "cell_type": "markdown",
   "metadata": {},
   "source": [
    "The correlation coefficient varies between -1 and 1, where 1 maximum correlation and -1 is maximum anti-correlation, while 0 is no correlation. I see the that all the temperatures have high correlation. Falun has higher correlation wiht Gävle than with Knon, which is expected as Falun is closer to Gävle than to Knon. The highest correlation is between Falun and the temperature and both Gävle and Knon, weighted with distance."
   ]
  },
  {
   "cell_type": "markdown",
   "metadata": {},
   "source": [
    "**b)** For each of the three independent variables: Fit a regression model and state the regression coefficients and how much of the variance is explained by each model, i.e. the $R^2$ values. Which model has the highest $R^2$ value? Select that model for the next part of the analysis.\n",
    "\n",
    "*Hint: For the evaluation the coefficient of determination $R^2$ is used. It is defined as $ R^2 = \\frac{\\text{explained variance}}{\\text{total variance}}$. You'll find this value in the upper right corner of the summary table.*"
   ]
  },
  {
   "cell_type": "code",
   "execution_count": 4,
   "metadata": {},
   "outputs": [
    {
     "name": "stdout",
     "output_type": "stream",
     "text": [
      "The temperature F at Falun relates to the temperature T at Gävle as:\n",
      "F = -0.40 + 0.93T , with an explained variance R² = 0.967.\n",
      "\n",
      "The temperature F at Falun relates to the temperature T at Knon as:\n",
      "F = 1.29 + 0.83T , with an explained variance R² = 0.941.\n",
      "\n",
      "The temperature F at Falun relates to the variable T of temperatures from both Gävle and Knon as:\n",
      "F = 0.19 + 0.92T , with an explained variance R² = 0.987.\n"
     ]
    }
   ],
   "source": [
    "# Linear regression and explained variance between the data from Falun and Gävle\n",
    "\n",
    "G_linfit = smf.ols(formula='T_Falun ~ T_Gavle', data=T_data).fit()\n",
    "R2_G = G_linfit.rsquared\n",
    "print('The temperature F at Falun relates to the temperature T at Gävle as:')\n",
    "print('F = %.2f + %.2fT' %(G_linfit.params[0],G_linfit.params[1]), ', with an explained variance R² = %.3f.\\n' %R2_G)\n",
    "\n",
    "# Linear regression and explained variance between the data from Falun and Knon\n",
    "\n",
    "K_linfit = smf.ols(formula='T_Falun ~ T_Knon', data=T_data).fit()\n",
    "R2_K = K_linfit.rsquared\n",
    "print('The temperature F at Falun relates to the temperature T at Knon as:')\n",
    "print('F = %.2f + %.2fT' %(K_linfit.params[0],K_linfit.params[1]), ', with an explained variance R² = %.3f.\\n' %R2_K)\n",
    "\n",
    "\n",
    "# Linear regression and explained variance between the data from Falun and the data from both Gävle and Knon\n",
    "\n",
    "G_K_linfit = smf.ols(formula='T_Falun ~ T_Gavle_Knon', data=T_data).fit()\n",
    "R2_G_K = G_K_linfit.rsquared\n",
    "print('The temperature F at Falun relates to the variable T of temperatures from both Gävle and Knon as:')\n",
    "print('F = %.2f + %.2fT' %(G_K_linfit.params[0],G_K_linfit.params[1]), ', with an explained variance R² = %.3f.' %R2_G_K)"
   ]
  },
  {
   "cell_type": "markdown",
   "metadata": {},
   "source": [
    "The variable consisting of temperatures from both Gävle and Knon, weighted with distance, has the highest explained variance R². I therefore use this variable to make a fit for the missing data at Falun."
   ]
  },
  {
   "cell_type": "code",
   "execution_count": 5,
   "metadata": {},
   "outputs": [
    {
     "data": {
      "text/html": [
       "<div>\n",
       "<style scoped>\n",
       "    .dataframe tbody tr th:only-of-type {\n",
       "        vertical-align: middle;\n",
       "    }\n",
       "\n",
       "    .dataframe tbody tr th {\n",
       "        vertical-align: top;\n",
       "    }\n",
       "\n",
       "    .dataframe thead th {\n",
       "        text-align: right;\n",
       "    }\n",
       "</style>\n",
       "<table border=\"1\" class=\"dataframe\">\n",
       "  <thead>\n",
       "    <tr style=\"text-align: right;\">\n",
       "      <th></th>\n",
       "      <th>T_Falun</th>\n",
       "      <th>T_Gavle</th>\n",
       "      <th>T_Knon</th>\n",
       "      <th>T_Gavle_Knon</th>\n",
       "      <th>T_Falun_fitted</th>\n",
       "    </tr>\n",
       "    <tr>\n",
       "      <th>Day</th>\n",
       "      <th></th>\n",
       "      <th></th>\n",
       "      <th></th>\n",
       "      <th></th>\n",
       "      <th></th>\n",
       "    </tr>\n",
       "  </thead>\n",
       "  <tbody>\n",
       "    <tr>\n",
       "      <th>1</th>\n",
       "      <td>8.2</td>\n",
       "      <td>9.0</td>\n",
       "      <td>6.5</td>\n",
       "      <td>8.106991</td>\n",
       "      <td>7.624316</td>\n",
       "    </tr>\n",
       "    <tr>\n",
       "      <th>2</th>\n",
       "      <td>6.4</td>\n",
       "      <td>7.8</td>\n",
       "      <td>4.8</td>\n",
       "      <td>6.728389</td>\n",
       "      <td>6.359258</td>\n",
       "    </tr>\n",
       "    <tr>\n",
       "      <th>3</th>\n",
       "      <td>5.9</td>\n",
       "      <td>5.7</td>\n",
       "      <td>5.5</td>\n",
       "      <td>5.628559</td>\n",
       "      <td>5.350011</td>\n",
       "    </tr>\n",
       "    <tr>\n",
       "      <th>4</th>\n",
       "      <td>6.3</td>\n",
       "      <td>6.6</td>\n",
       "      <td>5.6</td>\n",
       "      <td>6.242796</td>\n",
       "      <td>5.913659</td>\n",
       "    </tr>\n",
       "    <tr>\n",
       "      <th>5</th>\n",
       "      <td>2.8</td>\n",
       "      <td>4.5</td>\n",
       "      <td>3.4</td>\n",
       "      <td>4.107076</td>\n",
       "      <td>3.953839</td>\n",
       "    </tr>\n",
       "  </tbody>\n",
       "</table>\n",
       "</div>"
      ],
      "text/plain": [
       "     T_Falun  T_Gavle  T_Knon  T_Gavle_Knon  T_Falun_fitted\n",
       "Day                                                        \n",
       "1        8.2      9.0     6.5      8.106991        7.624316\n",
       "2        6.4      7.8     4.8      6.728389        6.359258\n",
       "3        5.9      5.7     5.5      5.628559        5.350011\n",
       "4        6.3      6.6     5.6      6.242796        5.913659\n",
       "5        2.8      4.5     3.4      4.107076        3.953839"
      ]
     },
     "execution_count": 5,
     "metadata": {},
     "output_type": "execute_result"
    }
   ],
   "source": [
    "T_Falun_fitted = G_K_linfit.params[0] + G_K_linfit.params[1]*T_data['T_Gavle_Knon']\n",
    "\n",
    "T_data['T_Falun_fitted'] = T_Falun_fitted\n",
    "T_data.head()"
   ]
  },
  {
   "cell_type": "markdown",
   "metadata": {},
   "source": [
    "**c)** Test the significance of $\\beta$, i.e. the regression coefficient representing the slope. State your hypotheses, degrees of freedom, test statistic value, rejection criteria and conclusion.\n",
    "\n",
    "*Hint: You can use a two-sided t-test to test if the slope is significantly different from zero. When calculating the test statisic, the standard error (used in the denominator) is the 'std err' given in the summary table of the regression analysis .*"
   ]
  },
  {
   "cell_type": "markdown",
   "metadata": {},
   "source": [
    "In testing the significance of the regression coefficient representing the slope, $\\beta$, my null hypothesis is that it is not significant. This corresponds to that the slope in the relationship between the varibles is zero or close to zero. I use the variable with the highest explained variance, which I found in the last exercise. The test statistic I use is $\\beta$ minus the slope of the null hypothesis (zero), divided by the standard deviation of $\\beta$. I get the value of the standard deviation of $\\beta$ from the summary table of the linear fit. I use a two-sided t-test, and my test criterion is that the absolute value of the test statistic should be larger than a certain t-value, given by the significance level and the degrees of freedom. I choose a significance level of $\\alpha = 0.05$. Since I have a linear fit with one variable, the number of degrees of freedom is $N-2$, where $N$ is the number of observations.\n",
    "\n",
    "Null hypothesis: That our beta is not significant, the slope is zero or close to zero.\n",
    "\n",
    "Test statistic: $T = \\frac{\\beta-0}{s_{\\beta}}$\n",
    "\n",
    "Rejection criterion: $|T| \\geq t_{1-\\alpha/2, n-2}$"
   ]
  },
  {
   "cell_type": "code",
   "execution_count": 6,
   "metadata": {},
   "outputs": [
    {
     "name": "stdout",
     "output_type": "stream",
     "text": [
      "                            OLS Regression Results                            \n",
      "==============================================================================\n",
      "Dep. Variable:                T_Falun   R-squared:                       0.987\n",
      "Model:                            OLS   Adj. R-squared:                  0.986\n",
      "Method:                 Least Squares   F-statistic:                     1393.\n",
      "Date:                Mon, 12 Oct 2020   Prob (F-statistic):           3.06e-19\n",
      "Time:                        11:09:39   Log-Likelihood:                -16.407\n",
      "No. Observations:                  21   AIC:                             36.81\n",
      "Df Residuals:                      19   BIC:                             38.90\n",
      "Df Model:                           1                                         \n",
      "Covariance Type:            nonrobust                                         \n",
      "================================================================================\n",
      "                   coef    std err          t      P>|t|      [0.025      0.975]\n",
      "--------------------------------------------------------------------------------\n",
      "Intercept        0.1850      0.135      1.375      0.185      -0.097       0.467\n",
      "T_Gavle_Knon     0.9176      0.025     37.318      0.000       0.866       0.969\n",
      "==============================================================================\n",
      "Omnibus:                        0.497   Durbin-Watson:                   1.812\n",
      "Prob(Omnibus):                  0.780   Jarque-Bera (JB):                0.044\n",
      "Skew:                           0.109   Prob(JB):                        0.978\n",
      "Kurtosis:                       3.054   Cond. No.                         6.12\n",
      "==============================================================================\n",
      "\n",
      "Notes:\n",
      "[1] Standard Errors assume that the covariance matrix of the errors is correctly specified.\n"
     ]
    }
   ],
   "source": [
    "print(G_K_linfit.summary())"
   ]
  },
  {
   "cell_type": "code",
   "execution_count": 7,
   "metadata": {},
   "outputs": [
    {
     "name": "stdout",
     "output_type": "stream",
     "text": [
      "The absolute value of the test statistic is 36.71\n",
      "The critical t-score is 2.09\n"
     ]
    }
   ],
   "source": [
    "N = len(T_data['T_Falun'].dropna())\n",
    "beta = G_K_linfit.params[1]\n",
    "s_beta = 0.025 # from summary table\n",
    "df = N-2\n",
    "alfa = 0.05\n",
    "T = beta/s_beta\n",
    "t = st.t.ppf(1 - alfa/2, df)\n",
    "print('The absolute value of the test statistic is %.2f' %abs(T))\n",
    "print('The critical t-score is %.2f' %t)"
   ]
  },
  {
   "cell_type": "markdown",
   "metadata": {},
   "source": [
    "Conclusion: since $|T| \\geq t_{1-\\alpha/2, n-2}$, I reject the null hypothesis. We conclude that the slope $\\beta$ is significant."
   ]
  },
  {
   "cell_type": "markdown",
   "metadata": {},
   "source": [
    "**d)** In the same figure, plot the time series of the observed data at the three stations together with the estimated temperature at Falun using the best model."
   ]
  },
  {
   "cell_type": "code",
   "execution_count": 8,
   "metadata": {},
   "outputs": [
    {
     "data": {
      "image/png": "[encoded data removed]",
      "text/plain": [
       "<Figure size 1080x576 with 1 Axes>"
      ]
     },
     "metadata": {
      "needs_background": "light"
     },
     "output_type": "display_data"
    }
   ],
   "source": [
    "plt.figure(figsize=[15,8])\n",
    "plt.rc('font', size=12)   \n",
    "plt.plot(T_data['T_Gavle'],label='Gävle')\n",
    "plt.plot(T_data['T_Knon'],label='Knon')\n",
    "plt.plot(T_data['T_Falun'],label='Falun (obs)')\n",
    "plt.plot(T_data['T_Falun_fitted'], label='Falun (fit)',linestyle='--')\n",
    "plt.legend()\n",
    "plt.xlabel('Days')\n",
    "plt.ylabel('Temperature [degC]')\n",
    "plt.title('Observed and Estimated Temperature at Falun, with observations at Gävle and Knon')\n",
    "plt.show()"
   ]
  },
  {
   "cell_type": "markdown",
   "metadata": {
    "collapsed": true
   },
   "source": [
    "### Question 2: Multiple linear regression\n",
    "\n",
    "In a **standard multiple linear regression**, all the independent variables are used in the regression model. Disadvantages of including all independent variables may include high cost of collecting all the data, including variables that do not improve the fit, and overfitting (making the model worse in predicting new data points).\n",
    "\n",
    "That is why we introduce **forward selection** (or similar proceedures). By this method, we can start by performing a simple regression using the independent variable which has the highest correlation with the dependent variable. Then, add another independent variable, and make sure that this second independent variable should have the highest partial correlation with the dependent while the influence of the first independent variable is removed. Continue this procedure to see if the addition of a third independent variable will be helpful. "
   ]
  },
  {
   "cell_type": "code",
   "execution_count": 9,
   "metadata": {},
   "outputs": [
    {
     "data": {
      "text/html": [
       "<div>\n",
       "<style scoped>\n",
       "    .dataframe tbody tr th:only-of-type {\n",
       "        vertical-align: middle;\n",
       "    }\n",
       "\n",
       "    .dataframe tbody tr th {\n",
       "        vertical-align: top;\n",
       "    }\n",
       "\n",
       "    .dataframe thead th {\n",
       "        text-align: right;\n",
       "    }\n",
       "</style>\n",
       "<table border=\"1\" class=\"dataframe\">\n",
       "  <thead>\n",
       "    <tr style=\"text-align: right;\">\n",
       "      <th></th>\n",
       "      <th>X1</th>\n",
       "      <th>X2</th>\n",
       "      <th>X3</th>\n",
       "      <th>Y</th>\n",
       "    </tr>\n",
       "  </thead>\n",
       "  <tbody>\n",
       "    <tr>\n",
       "      <th>0</th>\n",
       "      <td>1</td>\n",
       "      <td>2</td>\n",
       "      <td>10</td>\n",
       "      <td>5.077</td>\n",
       "    </tr>\n",
       "    <tr>\n",
       "      <th>1</th>\n",
       "      <td>2</td>\n",
       "      <td>2</td>\n",
       "      <td>9</td>\n",
       "      <td>32.330</td>\n",
       "    </tr>\n",
       "    <tr>\n",
       "      <th>2</th>\n",
       "      <td>3</td>\n",
       "      <td>3</td>\n",
       "      <td>5</td>\n",
       "      <td>65.140</td>\n",
       "    </tr>\n",
       "    <tr>\n",
       "      <th>3</th>\n",
       "      <td>4</td>\n",
       "      <td>4</td>\n",
       "      <td>4</td>\n",
       "      <td>47.270</td>\n",
       "    </tr>\n",
       "    <tr>\n",
       "      <th>4</th>\n",
       "      <td>5</td>\n",
       "      <td>2</td>\n",
       "      <td>9</td>\n",
       "      <td>80.570</td>\n",
       "    </tr>\n",
       "  </tbody>\n",
       "</table>\n",
       "</div>"
      ],
      "text/plain": [
       "   X1  X2  X3       Y\n",
       "0   1   2  10   5.077\n",
       "1   2   2   9  32.330\n",
       "2   3   3   5  65.140\n",
       "3   4   4   4  47.270\n",
       "4   5   2   9  80.570"
      ]
     },
     "execution_count": 9,
     "metadata": {},
     "output_type": "execute_result"
    }
   ],
   "source": [
    "# Reading the multidata file\n",
    "data = pd.read_csv('multidata.txt',sep='\\t')\n",
    "data.head()"
   ]
  },
  {
   "cell_type": "markdown",
   "metadata": {
    "collapsed": true
   },
   "source": [
    "**a)** In the file *multidata.txt* there are a number of numerical variables. Choose Y as the dependent variable and X1, X2, X3 as the independent variables. Perform a multiple linear regression using forward selection (in compendium called stepwise multiple regression) method. State in each step the choices you make, the reasons behind them, and the values you calculate (which the choices are based on)."
   ]
  },
  {
   "cell_type": "markdown",
   "metadata": {},
   "source": [
    "I will perform a multiple linear regression in order to find the best model for Y, using the independent variables X1, X2 and X3. I will do that by starting with performing a simple regression (using one variable), and then add others depending on whether they improve the model. To choose which variable to begin with, I find the one with the highest correlation."
   ]
  },
  {
   "cell_type": "code",
   "execution_count": 10,
   "metadata": {},
   "outputs": [
    {
     "name": "stdout",
     "output_type": "stream",
     "text": [
      "The correlation between Y and X1 is 0.624.\n",
      "The correlation between Y and X2 is 0.265.\n",
      "The correlation between Y and X3 is 0.587.\n"
     ]
    }
   ],
   "source": [
    "corr_X1_Y = st.pearsonr(data['X1'],data['Y'])[0]\n",
    "corr_X2_Y = st.pearsonr(data['X2'],data['Y'])[0]\n",
    "corr_X3_Y = st.pearsonr(data['X3'],data['Y'])[0]\n",
    "print('The correlation between Y and X1 is %.3f.' %corr_X1_Y)\n",
    "print('The correlation between Y and X2 is %.3f.' %corr_X2_Y)\n",
    "print('The correlation between Y and X3 is %.3f.' %corr_X3_Y)"
   ]
  },
  {
   "cell_type": "markdown",
   "metadata": {},
   "source": [
    "Y has highest correlation with X1. I choose this as the first independent variable. I make a linear fit and examine the explained variance and adjusted explained variance by printing out the summary table of the fit."
   ]
  },
  {
   "cell_type": "code",
   "execution_count": 11,
   "metadata": {},
   "outputs": [],
   "source": [
    "Y_X1_linfit = smf.ols(formula='Y ~ X1', data=data).fit()"
   ]
  },
  {
   "cell_type": "markdown",
   "metadata": {},
   "source": [
    "The summary table can be found further down, under exercise b). The linear fit is on the following form:\n",
    "\n",
    "$$Y = 9.996 + 11.983X_1$$\n",
    "\n",
    "with an explained variance $R^2 = 0.390$ and an adjusted explained variance $R_{adj}^2 = 0.349$."
   ]
  },
  {
   "cell_type": "markdown",
   "metadata": {},
   "source": [
    "I now want to find out which remaining variable has the highest partial correlation with Y (the best correlation with Y after excluding correlation with X1). This is the one I want to add to the model to see if it improves the model."
   ]
  },
  {
   "cell_type": "code",
   "execution_count": 12,
   "metadata": {},
   "outputs": [
    {
     "name": "stdout",
     "output_type": "stream",
     "text": [
      "The partial correlation between Y and X2 is 0.378.\n",
      "The partial correlation between Y and X3 is 0.874.\n"
     ]
    }
   ],
   "source": [
    "# Partial correlation between X2 and Y without X1\n",
    "corr_X1_X2 = st.pearsonr(data['X1'],data['X2'])[0]\n",
    "pcorr_X2_Y = (corr_X2_Y - corr_X1_Y*corr_X1_X2)/np.sqrt((1-corr_X1_X2**2)*(1-corr_X1_Y**2))\n",
    "print('The partial correlation between Y and X2 is %.3f.' %pcorr_X2_Y)\n",
    "\n",
    "# Partial correlation between X3 and Y without X1\n",
    "corr_X1_X3 = st.pearsonr(data['X1'],data['X3'])[0]\n",
    "pcorr_X3_Y = (corr_X3_Y - corr_X1_Y*corr_X1_X3)/np.sqrt((1-corr_X1_X3**2)*(1-corr_X1_Y**2))\n",
    "print('The partial correlation between Y and X3 is %.3f.' %pcorr_X3_Y)"
   ]
  },
  {
   "cell_type": "markdown",
   "metadata": {},
   "source": [
    "X3 has the highest partial correlation with Y without X1, so choose this as my second independent variable. I make a linear fit for Y with two independent variables X1 and X3. I read the parameters and the explained variances off the summary table, which can be found further down under exercise b)."
   ]
  },
  {
   "cell_type": "code",
   "execution_count": 13,
   "metadata": {},
   "outputs": [],
   "source": [
    "Y_X1_X3_linfit = smf.ols(formula='Y ~ X1 + X3', data=data).fit()"
   ]
  },
  {
   "cell_type": "markdown",
   "metadata": {},
   "source": [
    "The linear fit is on the following form:\n",
    "\n",
    "$$Y = -14.223 + 13.878X_1 + 1.350X_3$$\n",
    "\n",
    "with an explained variance $R^2 = 0.856$ and an adjusted explained variance $R_{adj}^2 = 0.836$."
   ]
  },
  {
   "cell_type": "markdown",
   "metadata": {},
   "source": [
    "We see that the explained variances are considerably higher for this model than for the previous one. However, we can use an F-test to test the significance of our added variable. We perform the F-test by checking if our test statistic $F_c$:\n",
    "\n",
    "$$F_c = \\frac{(1-R^2_{n-1})(N-n-1)}{(1-R^2_{n})(N-n-2)}$$\n",
    "\n",
    "is higher than a certain F-distribution value $F_{1-\\alpha, N-n-1, N-n-2}$. Here $\\alpha$ is the signifance level (5 %), $N$ is the number of observations, and $n$ is the number of independent variables. "
   ]
  },
  {
   "cell_type": "code",
   "execution_count": 14,
   "metadata": {},
   "outputs": [
    {
     "name": "stdout",
     "output_type": "stream",
     "text": [
      "The test statistic F_c is 4.575.\n",
      "The critical F-distribution value is 2.554.\n"
     ]
    }
   ],
   "source": [
    "N = len(data['Y'])\n",
    "n = 2\n",
    "alfa = 0.05\n",
    "R2_Y_X1 = Y_X1_linfit.rsquared\n",
    "R2_Y_X1_X3 = Y_X1_X3_linfit.rsquared\n",
    "\n",
    "Fc = (1 - R2_Y_X1)*(N-n-1)/((1 - R2_Y_X1_X3)*(N-n-2))\n",
    "F = st.f.ppf(1-alfa, N-n-1, N-n-2)\n",
    "print('The test statistic F_c is %.3f.' %Fc)\n",
    "print('The critical F-distribution value is %.3f.' %F)"
   ]
  },
  {
   "cell_type": "markdown",
   "metadata": {},
   "source": [
    "We have $F_c > F_{1-\\alpha, N-n-1, N-n-2}$, which means that the addition of X3 is significant."
   ]
  },
  {
   "cell_type": "markdown",
   "metadata": {},
   "source": [
    "Lastly we want ot see if we can improve our model by adding a third variable X2. We perform a linear fit between all the variables. The summary table of the fit can be found further down, under exercise b)."
   ]
  },
  {
   "cell_type": "code",
   "execution_count": 15,
   "metadata": {},
   "outputs": [],
   "source": [
    "Y_all_linfit = smf.ols(formula='Y ~ X1 + X2 + X3', data=data).fit()"
   ]
  },
  {
   "cell_type": "markdown",
   "metadata": {},
   "source": [
    "The linear fit is on the following form:\n",
    "\n",
    "$$Y = -22.826 + 13.910X_1 + 1.284X_2 + 3.993X_3$$\n",
    "\n",
    "with an explained variance $R^2 = 0.873$ and an adjusted explained variance $R_{adj}^2 = 0.844$."
   ]
  },
  {
   "cell_type": "markdown",
   "metadata": {},
   "source": [
    "We see that the explained variances are slightly higher than before. We can do an F-test to see if the added variable is significant. The procedure isthe same as before, except that the number of independent variables is now three instead of two."
   ]
  },
  {
   "cell_type": "code",
   "execution_count": 16,
   "metadata": {},
   "outputs": [
    {
     "name": "stdout",
     "output_type": "stream",
     "text": [
      "The test statistic F_c is 1.227.\n",
      "The critical F-distribution value is 2.660.\n"
     ]
    }
   ],
   "source": [
    "N = len(data['Y'])\n",
    "n = 3\n",
    "alfa = 0.05\n",
    "R2_Y_all = Y_all_linfit.rsquared\n",
    "\n",
    "Fc = (1 - R2_Y_X1_X3)*(N-n-1)/((1 - R2_Y_all)*(N-n-2))\n",
    "F = st.f.ppf(1-alfa, N-n-1, N-n-2)\n",
    "print('The test statistic F_c is %.3f.' %Fc)\n",
    "print('The critical F-distribution value is %.3f.' %F)"
   ]
  },
  {
   "cell_type": "markdown",
   "metadata": {},
   "source": [
    "We have $F_c < F_{1-\\alpha, N-n-1, N-n-2}$, which means that the addition of X2 is not significant."
   ]
  },
  {
   "cell_type": "markdown",
   "metadata": {},
   "source": [
    "**b)** Present in each case (for the model you make in each step) the $R^2$ and $R^2_{adj}$ values and the regression equations."
   ]
  },
  {
   "cell_type": "markdown",
   "metadata": {},
   "source": [
    "##### Summary table for linear fit between Y and X1"
   ]
  },
  {
   "cell_type": "code",
   "execution_count": 17,
   "metadata": {},
   "outputs": [
    {
     "name": "stdout",
     "output_type": "stream",
     "text": [
      "                            OLS Regression Results                            \n",
      "==============================================================================\n",
      "Dep. Variable:                      Y   R-squared:                       0.390\n",
      "Model:                            OLS   Adj. R-squared:                  0.349\n",
      "Method:                 Least Squares   F-statistic:                     9.572\n",
      "Date:                Mon, 12 Oct 2020   Prob (F-statistic):            0.00741\n",
      "Time:                        11:09:40   Log-Likelihood:                -78.599\n",
      "No. Observations:                  17   AIC:                             161.2\n",
      "Df Residuals:                      15   BIC:                             162.9\n",
      "Df Model:                           1                                         \n",
      "Covariance Type:            nonrobust                                         \n",
      "==============================================================================\n",
      "                 coef    std err          t      P>|t|      [0.025      0.975]\n",
      "------------------------------------------------------------------------------\n",
      "Intercept      9.9956     14.461      0.691      0.500     -20.828      40.819\n",
      "X1            11.9826      3.873      3.094      0.007       3.727      20.238\n",
      "==============================================================================\n",
      "Omnibus:                        1.684   Durbin-Watson:                   1.963\n",
      "Prob(Omnibus):                  0.431   Jarque-Bera (JB):                1.377\n",
      "Skew:                           0.570   Prob(JB):                        0.502\n",
      "Kurtosis:                       2.198   Cond. No.                         8.98\n",
      "==============================================================================\n",
      "\n",
      "Notes:\n",
      "[1] Standard Errors assume that the covariance matrix of the errors is correctly specified.\n"
     ]
    },
    {
     "name": "stderr",
     "output_type": "stream",
     "text": [
      "/home/astridbg/Documents/geo4300/exercises/lib/python3.8/site-packages/scipy/stats/stats.py:1603: UserWarning: kurtosistest only valid for n>=20 ... continuing anyway, n=17\n",
      "  warnings.warn(\"kurtosistest only valid for n>=20 ... continuing \"\n"
     ]
    }
   ],
   "source": [
    "print(Y_X1_linfit.summary())"
   ]
  },
  {
   "cell_type": "markdown",
   "metadata": {},
   "source": [
    "##### Summary table for linear fit between Y, and X1 and X3"
   ]
  },
  {
   "cell_type": "code",
   "execution_count": 18,
   "metadata": {},
   "outputs": [
    {
     "name": "stdout",
     "output_type": "stream",
     "text": [
      "                            OLS Regression Results                            \n",
      "==============================================================================\n",
      "Dep. Variable:                      Y   R-squared:                       0.856\n",
      "Model:                            OLS   Adj. R-squared:                  0.836\n",
      "Method:                 Least Squares   F-statistic:                     41.72\n",
      "Date:                Mon, 12 Oct 2020   Prob (F-statistic):           1.26e-06\n",
      "Time:                        11:09:40   Log-Likelihood:                -66.303\n",
      "No. Observations:                  17   AIC:                             138.6\n",
      "Df Residuals:                      14   BIC:                             141.1\n",
      "Df Model:                           2                                         \n",
      "Covariance Type:            nonrobust                                         \n",
      "==============================================================================\n",
      "                 coef    std err          t      P>|t|      [0.025      0.975]\n",
      "------------------------------------------------------------------------------\n",
      "Intercept    -14.2231      8.102     -1.756      0.101     -31.600       3.154\n",
      "X1            13.8775      1.965      7.062      0.000       9.663      18.093\n",
      "X3             1.3498      0.200      6.744      0.000       0.921       1.779\n",
      "==============================================================================\n",
      "Omnibus:                        3.571   Durbin-Watson:                   1.930\n",
      "Prob(Omnibus):                  0.168   Jarque-Bera (JB):                1.468\n",
      "Skew:                           0.561   Prob(JB):                        0.480\n",
      "Kurtosis:                       3.901   Cond. No.                         54.3\n",
      "==============================================================================\n",
      "\n",
      "Notes:\n",
      "[1] Standard Errors assume that the covariance matrix of the errors is correctly specified.\n"
     ]
    },
    {
     "name": "stderr",
     "output_type": "stream",
     "text": [
      "/home/astridbg/Documents/geo4300/exercises/lib/python3.8/site-packages/scipy/stats/stats.py:1603: UserWarning: kurtosistest only valid for n>=20 ... continuing anyway, n=17\n",
      "  warnings.warn(\"kurtosistest only valid for n>=20 ... continuing \"\n"
     ]
    }
   ],
   "source": [
    "print(Y_X1_X3_linfit.summary())"
   ]
  },
  {
   "cell_type": "markdown",
   "metadata": {},
   "source": [
    "##### Summary table for linear fit between Y, and X1 and X3"
   ]
  },
  {
   "cell_type": "code",
   "execution_count": 19,
   "metadata": {},
   "outputs": [
    {
     "name": "stdout",
     "output_type": "stream",
     "text": [
      "                            OLS Regression Results                            \n",
      "==============================================================================\n",
      "Dep. Variable:                      Y   R-squared:                       0.873\n",
      "Model:                            OLS   Adj. R-squared:                  0.844\n",
      "Method:                 Least Squares   F-statistic:                     29.81\n",
      "Date:                Mon, 12 Oct 2020   Prob (F-statistic):           4.27e-06\n",
      "Time:                        11:09:40   Log-Likelihood:                -65.247\n",
      "No. Observations:                  17   AIC:                             138.5\n",
      "Df Residuals:                      13   BIC:                             141.8\n",
      "Df Model:                           3                                         \n",
      "Covariance Type:            nonrobust                                         \n",
      "==============================================================================\n",
      "                 coef    std err          t      P>|t|      [0.025      0.975]\n",
      "------------------------------------------------------------------------------\n",
      "Intercept    -22.8259     10.270     -2.223      0.045     -45.013      -0.639\n",
      "X1            13.9098      1.917      7.257      0.000       9.769      18.051\n",
      "X2             3.8826      2.961      1.311      0.212      -2.514      10.279\n",
      "X3             1.2841      0.202      6.372      0.000       0.849       1.720\n",
      "==============================================================================\n",
      "Omnibus:                        2.908   Durbin-Watson:                   2.267\n",
      "Prob(Omnibus):                  0.234   Jarque-Bera (JB):                1.464\n",
      "Skew:                           0.709   Prob(JB):                        0.481\n",
      "Kurtosis:                       3.232   Cond. No.                         71.1\n",
      "==============================================================================\n",
      "\n",
      "Notes:\n",
      "[1] Standard Errors assume that the covariance matrix of the errors is correctly specified.\n"
     ]
    },
    {
     "name": "stderr",
     "output_type": "stream",
     "text": [
      "/home/astridbg/Documents/geo4300/exercises/lib/python3.8/site-packages/scipy/stats/stats.py:1603: UserWarning: kurtosistest only valid for n>=20 ... continuing anyway, n=17\n",
      "  warnings.warn(\"kurtosistest only valid for n>=20 ... continuing \"\n"
     ]
    }
   ],
   "source": [
    "print(Y_all_linfit.summary())"
   ]
  },
  {
   "cell_type": "markdown",
   "metadata": {
    "collapsed": true
   },
   "source": [
    "**c)** Present also your F-test results (use $\\alpha$ = 5%)"
   ]
  },
  {
   "cell_type": "markdown",
   "metadata": {},
   "source": [
    "See exercise a)."
   ]
  },
  {
   "cell_type": "markdown",
   "metadata": {},
   "source": [
    "**d)** What are your conclusions, and why? Which model do you choose?"
   ]
  },
  {
   "cell_type": "markdown",
   "metadata": {},
   "source": [
    "I choose the model where I only use X1 and X3 as independent variables:\n",
    "\n",
    "$$Y = -14.223 + 13.878X_1 + 1.350X_3$$\n",
    "\n",
    "because the addition of X2 was not significant. Even though the explained the variances where slightly higher for the last model, the difference in $R^2_{adj}$ between the models was not so large. To avoid overfitting, I therefore use the model with fewer independent variables."
   ]
  },
  {
   "cell_type": "code",
   "execution_count": null,
   "metadata": {},
   "outputs": [],
   "source": []
  }
 ],
 "metadata": {
  "anaconda-cloud": {},
  "kernelspec": {
   "display_name": "Python 3",
   "language": "python",
   "name": "python3"
  },
  "language_info": {
   "codemirror_mode": {
    "name": "ipython",
    "version": 3
   },
   "file_extension": ".py",
   "mimetype": "text/x-python",
   "name": "python",
   "nbconvert_exporter": "python",
   "pygments_lexer": "ipython3",
   "version": "3.8.2"
  }
 },
 "nbformat": 4,
 "nbformat_minor": 1
}
