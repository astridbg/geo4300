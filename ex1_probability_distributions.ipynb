{
 "cells": [
  {
   "cell_type": "markdown",
   "metadata": {},
   "source": [
    "# Ex 1: Basic concepts on random variables and probability distributions"
   ]
  },
  {
   "cell_type": "markdown",
   "metadata": {},
   "source": [
    "## Introduction\n",
    "This notebook includes a series of cells with code (Python) and descriptive text (markdown) and provides a number of exercises. Work through the exercises and add, as appropriate, new cells with your code \n",
    "or descriptive text to answer the questions. All required data are provided in your exercise folder.\n",
    "\n",
    "To submit your work, follow the steps '**Before you submit**' and '**How to submit**' in the *intro2notebook.ipynb* file contained in the *ex0_introduction_to_python.zip*.\n",
    "\n",
    "Please note, that this is the same for all following exercises."
   ]
  },
  {
   "cell_type": "markdown",
   "metadata": {},
   "source": [
    "### Part I: Basic statistics and probability calculation"
   ]
  },
  {
   "cell_type": "code",
   "execution_count": 202,
   "metadata": {},
   "outputs": [],
   "source": [
    "#First import some of the basic python packages we want to use:\n",
    "import pandas as pd\n",
    "import matplotlib.pyplot as plt\n",
    "import numpy as np\n",
    "from scipy.stats import hypergeom, binom, poisson, norm\n",
    "import math\n",
    "%matplotlib inline"
   ]
  },
  {
   "cell_type": "markdown",
   "metadata": {},
   "source": [
    "#### Question 1\n",
    "\n",
    "From monthly data (file *P_uppmonth1.dat*): compute for each month (column wise) mean, median, mode, standard deviation, coefficient of variation, minimum and maximum. Plot these values (except the mode) to show the annual variation. Note that coefficient of variation has a different unit than the other statistics, and thus needs to be plotted in a separate figure."
   ]
  },
  {
   "cell_type": "code",
   "execution_count": 2,
   "metadata": {},
   "outputs": [],
   "source": [
    "# Basic statistics can be easily calculated by defining DataFrames in pandas (like we did above)\n",
    "\n",
    "# To add all of the values in a particular column of a DataFrame (or a Series), you can do the following:\n",
    "# df[‘column_name’].sum()\n",
    "\n",
    "\n",
    "# Note: Passing the argument of axis=0 returns the mean of every single column in the DataFrame; e.g. df.mean(axis=0)\n",
    "#       Passing the argument of axis=1 returns the mean of every single  row   in the DataFrame; e.g. df.mean(axis=1)"
   ]
  },
  {
   "cell_type": "code",
   "execution_count": 3,
   "metadata": {
    "scrolled": false
   },
   "outputs": [
    {
     "data": {
      "text/html": [
       "<div>\n",
       "<style scoped>\n",
       "    .dataframe tbody tr th:only-of-type {\n",
       "        vertical-align: middle;\n",
       "    }\n",
       "\n",
       "    .dataframe tbody tr th {\n",
       "        vertical-align: top;\n",
       "    }\n",
       "\n",
       "    .dataframe thead th {\n",
       "        text-align: right;\n",
       "    }\n",
       "</style>\n",
       "<table border=\"1\" class=\"dataframe\">\n",
       "  <thead>\n",
       "    <tr style=\"text-align: right;\">\n",
       "      <th></th>\n",
       "      <th>Jan</th>\n",
       "      <th>Feb</th>\n",
       "      <th>Mar</th>\n",
       "      <th>Apr</th>\n",
       "      <th>May</th>\n",
       "      <th>Jun</th>\n",
       "      <th>Jul</th>\n",
       "      <th>Aug</th>\n",
       "      <th>Sep</th>\n",
       "      <th>Oct</th>\n",
       "      <th>Nov</th>\n",
       "      <th>Dec</th>\n",
       "    </tr>\n",
       "    <tr>\n",
       "      <th>year</th>\n",
       "      <th></th>\n",
       "      <th></th>\n",
       "      <th></th>\n",
       "      <th></th>\n",
       "      <th></th>\n",
       "      <th></th>\n",
       "      <th></th>\n",
       "      <th></th>\n",
       "      <th></th>\n",
       "      <th></th>\n",
       "      <th></th>\n",
       "      <th></th>\n",
       "    </tr>\n",
       "  </thead>\n",
       "  <tbody>\n",
       "    <tr>\n",
       "      <th>1981</th>\n",
       "      <td>32</td>\n",
       "      <td>26</td>\n",
       "      <td>62</td>\n",
       "      <td>22</td>\n",
       "      <td>23</td>\n",
       "      <td>98</td>\n",
       "      <td>80</td>\n",
       "      <td>163</td>\n",
       "      <td>13</td>\n",
       "      <td>122</td>\n",
       "      <td>144</td>\n",
       "      <td>109</td>\n",
       "    </tr>\n",
       "    <tr>\n",
       "      <th>1982</th>\n",
       "      <td>42</td>\n",
       "      <td>30</td>\n",
       "      <td>54</td>\n",
       "      <td>50</td>\n",
       "      <td>192</td>\n",
       "      <td>37</td>\n",
       "      <td>52</td>\n",
       "      <td>77</td>\n",
       "      <td>48</td>\n",
       "      <td>46</td>\n",
       "      <td>74</td>\n",
       "      <td>52</td>\n",
       "    </tr>\n",
       "    <tr>\n",
       "      <th>1983</th>\n",
       "      <td>78</td>\n",
       "      <td>10</td>\n",
       "      <td>107</td>\n",
       "      <td>46</td>\n",
       "      <td>36</td>\n",
       "      <td>105</td>\n",
       "      <td>80</td>\n",
       "      <td>25</td>\n",
       "      <td>188</td>\n",
       "      <td>58</td>\n",
       "      <td>36</td>\n",
       "      <td>78</td>\n",
       "    </tr>\n",
       "    <tr>\n",
       "      <th>1984</th>\n",
       "      <td>72</td>\n",
       "      <td>29</td>\n",
       "      <td>34</td>\n",
       "      <td>11</td>\n",
       "      <td>29</td>\n",
       "      <td>97</td>\n",
       "      <td>67</td>\n",
       "      <td>51</td>\n",
       "      <td>145</td>\n",
       "      <td>114</td>\n",
       "      <td>51</td>\n",
       "      <td>51</td>\n",
       "    </tr>\n",
       "    <tr>\n",
       "      <th>1985</th>\n",
       "      <td>83</td>\n",
       "      <td>37</td>\n",
       "      <td>42</td>\n",
       "      <td>69</td>\n",
       "      <td>23</td>\n",
       "      <td>25</td>\n",
       "      <td>104</td>\n",
       "      <td>50</td>\n",
       "      <td>76</td>\n",
       "      <td>53</td>\n",
       "      <td>74</td>\n",
       "      <td>63</td>\n",
       "    </tr>\n",
       "  </tbody>\n",
       "</table>\n",
       "</div>"
      ],
      "text/plain": [
       "      Jan  Feb  Mar  Apr  May  Jun  Jul  Aug  Sep  Oct  Nov  Dec\n",
       "year                                                            \n",
       "1981   32   26   62   22   23   98   80  163   13  122  144  109\n",
       "1982   42   30   54   50  192   37   52   77   48   46   74   52\n",
       "1983   78   10  107   46   36  105   80   25  188   58   36   78\n",
       "1984   72   29   34   11   29   97   67   51  145  114   51   51\n",
       "1985   83   37   42   69   23   25  104   50   76   53   74   63"
      ]
     },
     "execution_count": 3,
     "metadata": {},
     "output_type": "execute_result"
    }
   ],
   "source": [
    "# Reading the monthly data file\n",
    "monthly_data = pd.read_csv('P_uppmonth1.dat',index_col = 0, sep=\"\\t\") # reading the file with monthly data\n",
    "monthly_data.head()"
   ]
  },
  {
   "cell_type": "code",
   "execution_count": 4,
   "metadata": {},
   "outputs": [],
   "source": [
    "# Calculating monthly variables\n",
    "monthly_mean = monthly_data.mean(axis=0) # calculating monthly mean\n",
    "monthly_median = monthly_data.median(axis=0) # calculating monthly median\n",
    "monthly_mode = monthly_data.mode(axis=0) # calculating monthly mode\n",
    "monthly_std = monthly_data.std(axis=0) # calculating monthly standard deviation\n",
    "monthly_cv = monthly_std/monthly_mean # calculating monthly coefficient of variation\n",
    "monthly_min = monthly_data.min(axis=0) # calculating monthly minimum\n",
    "monthly_max = monthly_data.max(axis=0) # calculating monthly maximum"
   ]
  },
  {
   "cell_type": "code",
   "execution_count": 5,
   "metadata": {},
   "outputs": [
    {
     "data": {
      "image/png": "[encoded data removed]",
      "text/plain": [
       "<Figure size 432x288 with 1 Axes>"
      ]
     },
     "metadata": {
      "needs_background": "light"
     },
     "output_type": "display_data"
    },
    {
     "data": {
      "image/png": "[encoded data removed]",
      "text/plain": [
       "<Figure size 432x288 with 1 Axes>"
      ]
     },
     "metadata": {
      "needs_background": "light"
     },
     "output_type": "display_data"
    }
   ],
   "source": [
    "# Making plots to show the annual variation\n",
    "plt.title('Annual Precipation Variation in Uppsala')\n",
    "plt.plot(monthly_mean, label='Mean')\n",
    "plt.plot(monthly_median, label='Median')\n",
    "plt.plot(monthly_std, label='Standard Deviation')\n",
    "plt.plot(monthly_min, label='Minimum')\n",
    "plt.plot(monthly_max, label='Maximum') \n",
    "plt.legend(loc='best')\n",
    "plt.ylabel('Monthly precipitation [mm]')\n",
    "plt.show()\n",
    "\n",
    "plt.title('Coefficient of Variation')\n",
    "plt.plot(monthly_cv)\n",
    "plt.ylabel('Ratio of standard deviation to mean')\n",
    "plt.show()"
   ]
  },
  {
   "cell_type": "markdown",
   "metadata": {},
   "source": [
    "#### Question 2\n",
    "\n",
    "For daily data (file *P_Uppsala.dat*, values in [mm]): Estimate the probability for daily precipitation that\n",
    "\n",
    "1. Equal zero\n",
    "2. more than zero\n",
    "3. more than 10 mm\n",
    "4. more than 10 mm for days with precipitation"
   ]
  },
  {
   "cell_type": "code",
   "execution_count": 6,
   "metadata": {},
   "outputs": [
    {
     "data": {
      "text/html": [
       "<div>\n",
       "<style scoped>\n",
       "    .dataframe tbody tr th:only-of-type {\n",
       "        vertical-align: middle;\n",
       "    }\n",
       "\n",
       "    .dataframe tbody tr th {\n",
       "        vertical-align: top;\n",
       "    }\n",
       "\n",
       "    .dataframe thead th {\n",
       "        text-align: right;\n",
       "    }\n",
       "</style>\n",
       "<table border=\"1\" class=\"dataframe\">\n",
       "  <thead>\n",
       "    <tr style=\"text-align: right;\">\n",
       "      <th></th>\n",
       "      <th>3</th>\n",
       "    </tr>\n",
       "    <tr>\n",
       "      <th>0_1_2</th>\n",
       "      <th></th>\n",
       "    </tr>\n",
       "  </thead>\n",
       "  <tbody>\n",
       "    <tr>\n",
       "      <th>1981-01-01</th>\n",
       "      <td>1.5</td>\n",
       "    </tr>\n",
       "    <tr>\n",
       "      <th>1981-01-02</th>\n",
       "      <td>0.0</td>\n",
       "    </tr>\n",
       "    <tr>\n",
       "      <th>1981-01-03</th>\n",
       "      <td>0.0</td>\n",
       "    </tr>\n",
       "    <tr>\n",
       "      <th>1981-01-04</th>\n",
       "      <td>0.4</td>\n",
       "    </tr>\n",
       "    <tr>\n",
       "      <th>1981-01-05</th>\n",
       "      <td>0.0</td>\n",
       "    </tr>\n",
       "  </tbody>\n",
       "</table>\n",
       "</div>"
      ],
      "text/plain": [
       "              3\n",
       "0_1_2          \n",
       "1981-01-01  1.5\n",
       "1981-01-02  0.0\n",
       "1981-01-03  0.0\n",
       "1981-01-04  0.4\n",
       "1981-01-05  0.0"
      ]
     },
     "execution_count": 6,
     "metadata": {},
     "output_type": "execute_result"
    },
    {
     "data": {
      "image/png": "[encoded data removed]",
      "text/plain": [
       "<Figure size 432x288 with 1 Axes>"
      ]
     },
     "metadata": {
      "needs_background": "light"
     },
     "output_type": "display_data"
    }
   ],
   "source": [
    "# Reading the daily data file\n",
    "daily_data = pd.read_csv('P_Uppsala.dat',index_col = 0, parse_dates = [[0, 1, 2]], sep=\"\\t\", header=None)\n",
    "plt.plot(daily_data)\n",
    "daily_data.head()"
   ]
  },
  {
   "cell_type": "code",
   "execution_count": 7,
   "metadata": {},
   "outputs": [],
   "source": [
    "# Finding the size of the sample\n",
    "n = float(np.size(daily_data))\n",
    "# Finding the number of days with zero rain\n",
    "nr_of_zeros = daily_data == 0.0 # Boolean array with days with zero rain as 'True'\n",
    "n_zeros = np.sum(nr_of_zeros).iloc[0]\n",
    "# Finding the number of days with rain (more than zero)\n",
    "n_rain = n - n_zeros\n",
    "# Finding the number of days with more than 10 mm rain\n",
    "n_10mm = np.sum(daily_data >= 10.0).iloc[0]"
   ]
  },
  {
   "cell_type": "code",
   "execution_count": 8,
   "metadata": {},
   "outputs": [
    {
     "name": "stdout",
     "output_type": "stream",
     "text": [
      "--- Estimated probabilities: ---\n",
      "Probability of 0 mm precipitation: 52.83 %\n",
      "Probability of more than 0 mm precipitation: 47.17 %\n",
      "Probability of more than 10 mm precipitation: 5.95 %\n",
      "Probability of more than 10 mm for days with precipitation: 12.61 %\n"
     ]
    }
   ],
   "source": [
    "# Making probability estimations\n",
    "p_zero = n_zeros/n # The estimated probability of zero precipitation\n",
    "p_rain = n_rain/n # The estimated probability of more than zero precipitation\n",
    "p_10mm = n_10mm/n # The estimated probability of more than 10 mm precipitation\n",
    "p_10mm_if_rain = n_10mm/n_rain # The estimated probability of more than 10 mm for days with precipitation\n",
    "print('--- Estimated probabilities: ---')\n",
    "print('Probability of 0 mm precipitation: %.2f' %(p_zero*100), '%')\n",
    "print('Probability of more than 0 mm precipitation: %.2f' %(p_rain*100), '%')\n",
    "print('Probability of more than 10 mm precipitation: %.2f' %(p_10mm*100), '%')\n",
    "print('Probability of more than 10 mm for days with precipitation: %.2f' %(p_10mm_if_rain*100), '%')"
   ]
  },
  {
   "cell_type": "markdown",
   "metadata": {},
   "source": [
    "#### Question 3\n",
    "\n",
    "From the daily data, calculate the maximum 1-day, 3-day and 5-day average rainfall amount, and state the date/period.\n",
    "\n",
    "*Hint: to compute average over x days, you can check out the pandas dataframe method rolling().*"
   ]
  },
  {
   "cell_type": "code",
   "execution_count": 9,
   "metadata": {},
   "outputs": [
    {
     "name": "stdout",
     "output_type": "stream",
     "text": [
      "Maximum daily rainfall amount: 136.60 mm.  Date: 1982-05-21 00:00:00\n",
      "Maximum 3-day average rainfall amount: 47.40 mm.  Following date: 1982-05-23 00:00:00\n",
      "Maximum 3-day average rainfall amount: 29.72 mm.  Following date: 1982-05-24 00:00:00\n"
     ]
    }
   ],
   "source": [
    "# Calculating the 1-day maximum amount\n",
    "one_day_max = daily_data.max().iloc[0]\n",
    "one_day_max_date = daily_data.idxmax().iloc[0] # Returns the date of the maximum 1-day average rainfall amount\n",
    "\n",
    "# Calculating the 3-day maximum amount\n",
    "three_day_avg = daily_data.rolling(3).sum()/3. # Array of average rainfall for the last three days each day\n",
    "three_day_max = three_day_avg.max().iloc[0] \n",
    "three_day_max_date = three_day_avg.idxmax().iloc[0] # Returns the date of the maximum 3-day average rainfall amount\n",
    "\n",
    "# Calculating the 5-day maximum amount\n",
    "five_day_avg = daily_data.rolling(5).sum()/5. # Array of average rainfall for the last five days each day\n",
    "five_day_max = five_day_avg.max().iloc[0] \n",
    "five_day_max_date = five_day_avg.idxmax().iloc[0] # Returns the date of the maximum 5-day average rainfall amount\n",
    "\n",
    "print('Maximum daily rainfall amount: %.2f mm.' %one_day_max, ' Date: %s' %one_day_max_date)\n",
    "print('Maximum 3-day average rainfall amount: %.2f mm.' %three_day_max, ' Following date: %s' %three_day_max_date)\n",
    "print('Maximum 3-day average rainfall amount: %.2f mm.' %five_day_max, ' Following date: %s' %five_day_max_date)"
   ]
  },
  {
   "cell_type": "markdown",
   "metadata": {},
   "source": [
    "The maximum rainfall amount in the daily data is 136 mm, which occured on May 21 in 1982. \n",
    "The maximum 3-day average rainfall amount is 47.40 mm, which occured in the period May 20 to May 22 in 1982.\n",
    "The maximum 5-day average rainfall amount is 29.72 mm, which occured in the period May 19 to May 23 in 1982.\n",
    "\n",
    "We can see that these maxima are all from the same time period, and perhaps correspond to the same extreme precipitation event."
   ]
  },
  {
   "cell_type": "markdown",
   "metadata": {},
   "source": [
    "#### Question 4\n",
    "\n",
    "What is the maximum dry-spell days and the maximum wet-spell days of daily rainfall? When do they occur?"
   ]
  },
  {
   "cell_type": "code",
   "execution_count": 210,
   "metadata": {},
   "outputs": [
    {
     "name": "stdout",
     "output_type": "stream",
     "text": [
      "The maximum difference between rain days is 23 days 00:00:00, and ended on 1981-05-25 00:00:00.\n",
      "The maximum difference between dry days is 24 days 00:00:00, and ended on 1988-02-13 00:00:00.\n"
     ]
    }
   ],
   "source": [
    "# Creating separate dry and wet days arrays\n",
    "dry_days = daily_data[daily_data == 0].dropna() # Creating array with only days without precipitation \n",
    "wet_days = daily_data[daily_data > 0].dropna() # Creating array with only days with precipitation \n",
    "\n",
    "# Finding the difference between the dates in the arrays\n",
    "dry_spell_days = wet_days.index.to_series().diff() # The dry-pell days are the differences between wet days\n",
    "wet_spell_days = dry_days.index.to_series().diff() # The wet-spell days are the differences between dry days\n",
    "\n",
    "# Finding the maximum of the dry-spell days and wet-spell days, and corresponding days\n",
    "max_dry_spell_days = dry_spell_days.max()\n",
    "max_dry_spell_days_date = dry_spell_days.idxmax()\n",
    "max_wet_spell_days = wet_spell_days.max()\n",
    "max_wet_spell_days_date = wet_spell_days.idxmax()\n",
    "\n",
    "print('The maximum difference between rain days is %s, and ended on %s.' %(max_dry_spell_days, max_dry_spell_days_date))\n",
    "print('The maximum difference between dry days is %s, and ended on %s.' %(max_wet_spell_days, max_wet_spell_days_date))"
   ]
  },
  {
   "cell_type": "markdown",
   "metadata": {},
   "source": [
    "The maximum number of dry-spell days is 22 days and ended on May 25 1981. The maximum number of wet-spell days is 23 days and ended on Febuary 23 1988."
   ]
  },
  {
   "cell_type": "markdown",
   "metadata": {},
   "source": [
    "#### Question 5\n",
    "\n",
    "The depth of clarity of Lake Tahoe was measured at several different places with the results in inches is available in the file *Tahoe.dat*.\n",
    "\n",
    "1. Plot the histogram (relative frequency) with class intervals of length 5.\n",
    "2. Plot the cumulative relative frequency and estimate Prob(D≤40)≈? and Prob(15≤D≤30) ≈?"
   ]
  },
  {
   "cell_type": "code",
   "execution_count": 17,
   "metadata": {},
   "outputs": [
    {
     "data": {
      "text/html": [
       "<div>\n",
       "<style scoped>\n",
       "    .dataframe tbody tr th:only-of-type {\n",
       "        vertical-align: middle;\n",
       "    }\n",
       "\n",
       "    .dataframe tbody tr th {\n",
       "        vertical-align: top;\n",
       "    }\n",
       "\n",
       "    .dataframe thead th {\n",
       "        text-align: right;\n",
       "    }\n",
       "</style>\n",
       "<table border=\"1\" class=\"dataframe\">\n",
       "  <thead>\n",
       "    <tr style=\"text-align: right;\">\n",
       "      <th></th>\n",
       "      <th>0</th>\n",
       "    </tr>\n",
       "  </thead>\n",
       "  <tbody>\n",
       "    <tr>\n",
       "      <th>0</th>\n",
       "      <td>15.4</td>\n",
       "    </tr>\n",
       "    <tr>\n",
       "      <th>1</th>\n",
       "      <td>16.7</td>\n",
       "    </tr>\n",
       "    <tr>\n",
       "      <th>2</th>\n",
       "      <td>16.9</td>\n",
       "    </tr>\n",
       "    <tr>\n",
       "      <th>3</th>\n",
       "      <td>17.0</td>\n",
       "    </tr>\n",
       "    <tr>\n",
       "      <th>4</th>\n",
       "      <td>20.2</td>\n",
       "    </tr>\n",
       "  </tbody>\n",
       "</table>\n",
       "</div>"
      ],
      "text/plain": [
       "      0\n",
       "0  15.4\n",
       "1  16.7\n",
       "2  16.9\n",
       "3  17.0\n",
       "4  20.2"
      ]
     },
     "execution_count": 17,
     "metadata": {},
     "output_type": "execute_result"
    }
   ],
   "source": [
    "# Reading the Lake Tahoe depth data file\n",
    "Tahoe_data = pd.read_csv('Tahoe.dat',header=None)\n",
    "Tahoe_data.head()"
   ]
  },
  {
   "cell_type": "code",
   "execution_count": 91,
   "metadata": {},
   "outputs": [
    {
     "data": {
      "image/png": "[encoded data removed]",
      "text/plain": [
       "<Figure size 432x288 with 1 Axes>"
      ]
     },
     "metadata": {
      "needs_background": "light"
     },
     "output_type": "display_data"
    }
   ],
   "source": [
    "# Plotting the relative frequency as histogram\n",
    "n = np.size(Tahoe_data) \n",
    "bins = np.linspace(15,55,9)\n",
    "hist = Tahoe_data.plot.hist(bins=bins, weights=np.zeros_like(Tahoe_data) + 1. / n)\n",
    "hist.set_ylabel('Relative Frequency')\n",
    "hist.set_xlabel('Depth [m]')\n",
    "plt.title('Tahoe Lake Depth Measurements')\n",
    "plt.grid()"
   ]
  },
  {
   "cell_type": "code",
   "execution_count": 92,
   "metadata": {},
   "outputs": [
    {
     "data": {
      "image/png": "[encoded data removed]",
      "text/plain": [
       "<Figure size 432x288 with 1 Axes>"
      ]
     },
     "metadata": {
      "needs_background": "light"
     },
     "output_type": "display_data"
    }
   ],
   "source": [
    "# Plotting the cumulative relative frequency\n",
    "bins = np.linspace(15,55,9)\n",
    "cumhist = Tahoe_data.plot.hist(bins=bins,density=True,cumulative=True)\n",
    "cumhist.set_ylabel('Cumulative Relative Frequency')\n",
    "cumhist.set_xlabel('Depth [m]')\n",
    "plt.title('Tahoe Lake Depth Measurements')\n",
    "plt.grid()"
   ]
  },
  {
   "cell_type": "code",
   "execution_count": 206,
   "metadata": {},
   "outputs": [],
   "source": [
    "# Estimating probabilities\n"
   ]
  },
  {
   "cell_type": "markdown",
   "metadata": {},
   "source": [
    "I estimate the probability from reading off the cumulative relative frequency plot. The probability of having a depth lesser than or equal to 40 m is around 0.5, while the probability of having a depth between 15 m and 30 m is around 0.27. The last is just the same as having a depth lesser than or equal to 30 m, since the probability of finding depth of 15 m is zero in the graph since we don't have any data of this. However, there has to be some points in the lake where the depth is than 15 m as well, so its is likely that probability is actually different. "
   ]
  },
  {
   "cell_type": "markdown",
   "metadata": {},
   "source": [
    "####  Question 6\n",
    "\n",
    "The frequency function for a continuous stochastic variable is shown below. Solve the problems analytically\n",
    "\n",
    "$$\n",
    "f(x) = \\left\\{\n",
    "        \\begin{array}{ll}\n",
    "            cx^2 & \\quad 0 < x < 1 \\\\\n",
    "            0 & \\quad \\text{otherwise}\n",
    "        \\end{array}\n",
    "    \\right.\n",
    "$$\n",
    "\n",
    "\n",
    "1. Find the value for c so that f(x) becomes a density function. Use that $\\int_{-\\infty }^{\\infty }f(x)dx$ = 1.\n",
    "\n",
    "    $$\\int_{-\\infty }^{\\infty }f(x)dx = \\int_{-\\infty}^{0}0dx + \\int_{0}^{1}cx^2dx + \\int_{1}^{\\infty} 0dx= 1$$\n",
    "    $$\\int_{0}^{1}cx^2dx = c[\\frac{1}{3}x^3]_0^1 = 1$$\n",
    "    $$c\\cdot\\frac{1}{3}=1$$\n",
    "    $$c=3$$\n",
    "    The value of $c$ needs to be 3 in order for $f(x)$ to become a density function.\n",
    "    \n",
    "\n",
    "2. Find the distribution function, F(x)\n",
    "\n",
    "    The (cumulative) distribution function $F(x)$ is defined as $F(x) = \\int_{-\\infty}^x f(u)du$\n",
    "    where $f(u)$ is the density function. Here we have:\n",
    "    $$F(x) = \\int_{-\\infty}^x 3f(u)du = \\int_{-\\infty}^0 0du + \\int_{0}^x 3u^2du$$\n",
    "    $$F(x) = \\int_{0}^x 3u^2du = [u^3]_0^x = x^3$$\n",
    "    assuming that $0 < x < 1$. If we have $x > 1$ we get\n",
    "    $$F(x) = \\int_{-\\infty}^x 3f(u)du = \\int_{-\\infty}^0 0du + \\int_{0}^1 3u^2du + \\int_{1}^x 0du = [u^3]_0^1 = 1$$\n",
    "\n",
    "3. Calculate Prob(x < 0), Prob(x = 0.5), Prob(x > 1), Prob(0<=x<=0.5) and Prob(0<x< 0.5)\n",
    " \n",
    "   $P(x < 0) = F(0) = 0$. The probability of $x < 0$ (the value of the cumulative distribution at $x=0$) is 0.\n",
    "   \n",
    "   $P(x = 0.5) = \\int_{0.5}^{0.5} f(x)dx = 0.$ Because the variable is continuos, the probability of a single value is 0.\n",
    "   \n",
    "   $P(x > 1) = \\int_1^{\\infty} f(x)dx = \\int_1^{\\infty} 0 dx = 0$. The probability of getting an $x > 1$ is 0.\n",
    "   \n",
    "   $P(0 \\leq x \\leq 0.5) = F(0.5) - F(0) = (0.5)^3 - 0 = 0.125$. The probability of getting $0 \\leq x \\leq 0.5$ is 12.5 %.\n",
    "   \n",
    "   $P(0 < x < 0.5) = P(0 \\leq x \\leq 0.5) - P(x=0) - P(x=0.5) = 0.125 - 0 - 0 = 0.125.$ The probability of getting 0 < x < 0.5 is 12.5% as well.\n",
    "   \n",
    "  \n",
    "4. Find the median\n",
    "\n",
    "The median is defined, for a continous variable, as the value X where $P(x \\leq X) = P(x \\geq X) = 0.5$. I can use the distribution function F(x) to find the x where $P(x \\leq X) = 0.5$.\n",
    "$$F(X) = X^3 = 0.5$$\n",
    "$$X = 0.5^{\\frac{1}{3}} \\approx 0.794$$\n",
    "The median is approximately 0.79.\n",
    "\n",
    "5. Find the mode\n",
    "\n",
    "The mode is defined as the value X of the variable with the maximum probability. In other words, it is the maximum value of the density function. The maximum value of the density function is the value right before x = 1, as we can see in the plot underneath, but I cannot find this value by deriving, since the density function is not continous in this point. Instead I state it as something like \"the mode is when $x \\rightarrow 1$\". However, I am not sure if the mode is properly defined in this case. \n",
    "\n",
    "6. Calculate the expectation, E(x)\n",
    "\n",
    "The expectation for a continuous variable is given by $E(x) = \\int_{-\\infty}^{\\infty} xf(x)dx$ where $f(x)$ is the density function. This gives us:\n",
    "$$E(x) = \\int_{-\\infty}^{\\infty} xf(x)dx = \\int_{-\\infty}^{0}0dx + \\int_{0}^{1}x\\cdot3x^2dx + \\int_{1}^{\\infty} 0dx$$\n",
    "$$E(x) = \\int_{0}^{1}3x^3dx = [3\\cdot \\frac{1}{4}x^4]_0^1 = \\frac{3}{4}$$\n",
    "7. Calculate the variance, Var(x)\n",
    "\n",
    "\n",
    "The variance is given by $Var(x) = E(x^2) - E(x)^2$. To find it, we first calculate $E(x^2).\n",
    "\n",
    "$$E(x^2) = \\int_{-\\infty}^{\\infty} x^2f(x)dx = \\int_{0}^{1}x^23x^2dx = \\int_{0}^{1}3x^4dx =  [3\\cdot \\frac{1}{5}x^5]_0^1 = \\frac{3}{5}$$\n",
    "We then get the variance\n",
    "$$Var(x) = E(x^2) - E(x)^2 = \\frac{3}{5} - (\\frac{3}{4})^2 = \\frac{3}{5} - \\frac{9}{16} = \\frac{48-45}{80} = \\frac{3}{80}$$"
   ]
  },
  {
   "cell_type": "code",
   "execution_count": 117,
   "metadata": {},
   "outputs": [
    {
     "data": {
      "image/png": "[encoded data removed]",
      "text/plain": [
       "<Figure size 432x288 with 1 Axes>"
      ]
     },
     "metadata": {
      "needs_background": "light"
     },
     "output_type": "display_data"
    },
    {
     "data": {
      "text/plain": [
       "Text(0.5, 1.0, 'Cumulative Distribution Function')"
      ]
     },
     "execution_count": 117,
     "metadata": {},
     "output_type": "execute_result"
    },
    {
     "data": {
      "image/png": "[encoded data removed]",
      "text/plain": [
       "<Figure size 432x288 with 1 Axes>"
      ]
     },
     "metadata": {
      "needs_background": "light"
     },
     "output_type": "display_data"
    }
   ],
   "source": [
    "# Visualizing the density and distribution functions in question 6\n",
    "def density(x):\n",
    "    f = np.zeros(len(x))\n",
    "    for i in range(len(x)):\n",
    "        if 0 < x[i] < 1:\n",
    "            f[i] = 3*x[i]**2\n",
    "        else:\n",
    "            f[i] = 0\n",
    "    return f\n",
    "\n",
    "def distribution(x):\n",
    "    F = np.zeros(len(x))\n",
    "    for i in range(len(x)):\n",
    "        if x[i] <= 0:\n",
    "            F[i] = 0\n",
    "        elif 0 < x[i] < 1:\n",
    "            F[i] = x[i]**3\n",
    "        else: \n",
    "            F[i] = 1\n",
    "    return F\n",
    "\n",
    "x = np.linspace(-1,2,100)\n",
    "\n",
    "plt.plot(x,density(x))\n",
    "plt.xlabel('x')\n",
    "plt.ylabel('f(x)')\n",
    "plt.title('Density Function')\n",
    "plt.show()\n",
    "\n",
    "plt.plot(x,distribution(x))\n",
    "plt.xlabel('x')\n",
    "plt.ylabel('F(x)')\n",
    "plt.title('Cumulative Distribution Function')"
   ]
  },
  {
   "cell_type": "markdown",
   "metadata": {},
   "source": [
    "### Part II: Probability distribution"
   ]
  },
  {
   "cell_type": "markdown",
   "metadata": {
    "collapsed": true
   },
   "source": [
    "#### Question 1.\n",
    "The number of rainy days in July and August at a meteorological station is given in the table below.\n",
    "\n",
    "\n",
    "Year|1|2|3|4|5|6|7|8|9|10|\n",
    "-|-|-|-|-|-|-|-|-|-|-|\n",
    "July|10|15|17|8|9|19|17|14|20|4\n",
    "August|4|9|8|3|0|10|12|2|8|6\n",
    "\n",
    "##### a ) Use the Hypergeometric, Binomial and Poisson distributions to calculate \n",
    "1) What is the probability of 10 rainy days in each of the months of July and August? \n",
    "\n",
    "2) What is the probability of 20 rainy days in the 2 month period? \n",
    "\n",
    "*Note: if you wish to use factorial function then you have to import the module 'math' by the command 'import math' then write: math.factorial(x)*\n",
    "\n",
    "\n",
    "* **Hint: Hypergeometric function:**\n",
    "    - import scipy.stats\n",
    "    - from scipy.stats import hypergeom\n",
    "    - hypergeom.pmf(x, N, n, k)\n",
    "    - where\n",
    "        - k is the number of \"successes\" in the population\n",
    "        - x is the number of \"successes\" in the sample\n",
    "        - N is the size of the population\n",
    "        - n is the number sampled\n",
    "\n",
    "* **Hint: Binomial distribution**\n",
    "    - from scipy.stats import binom\n",
    "    - binom.pmf(x,n,p)\n",
    "    - where\n",
    "        - p is the probability of success, and n and x same as for hypergeometric.\n",
    "\n",
    "* **Hint: Poisson Distribution**\n",
    "    - from scipy.stats import poisson\n",
    "    - poisson.pmf(x, λ)\n",
    "    - where\n",
    "        - λ =pn\n"
   ]
  },
  {
   "cell_type": "code",
   "execution_count": 148,
   "metadata": {},
   "outputs": [
    {
     "name": "stdout",
     "output_type": "stream",
     "text": [
      "The probability of 10 rainy days in July is:\n",
      "Hypergeometric method: 0.0704\n",
      "Binomial method: 0.0726\n",
      "Poisson method: 0.0799 \n",
      "\n",
      "The probability of 10 rainy days in August is:\n",
      "Hypergeometric method: 0.0385\n",
      "Binomial method: 0.0419\n",
      "Poisson method: 0.0469 \n",
      "\n",
      "The probability of 20 rainy days in the 2 month period is:\n",
      "Hypergeometric method: 0.1126\n",
      "Binomial method: 0.1069\n",
      "Poisson method: 0.0883 \n",
      "\n"
     ]
    }
   ],
   "source": [
    "n_years = 10\n",
    "days_jul = 31\n",
    "days_aug = 31\n",
    "rain_days_jul = np.array([10, 15, 17, 8, 9, 19, 17, 14, 20, 4])\n",
    "rain_days_aug = np.array([4, 9, 8, 3, 0, 10, 12, 2, 8, 6])\n",
    "total_rain_days_jul = np.sum(rain_days_jul)\n",
    "total_rain_days_aug = np.sum(rain_days_aug)\n",
    "\n",
    "# 1) What is the probability of 10 rainy days in each of the months of July and August?\n",
    "x = 10 \n",
    "n = days_jul # same number of days in July and August, they have the same n\n",
    "N = n*n_years # \n",
    "k_jul = total_rain_days_jul\n",
    "k_aug = total_rain_days_aug\n",
    "p_jul = k_jul/N\n",
    "p_aug = k_aug/N\n",
    "lambda_jul = n*p_jul\n",
    "lambda_aug = n*p_aug\n",
    "\n",
    "# Hypergeometric distribution\n",
    "hyper1_jul = hypergeom.pmf(x,N,n,k_jul)\n",
    "hyper1_aug = hypergeom.pmf(x,N,n,k_aug)\n",
    "\n",
    "# Binomial distribution\n",
    "binomial1_jul = binom.pmf(x,n,p_jul)\n",
    "binomial1_aug = binom.pmf(x,n,p_aug)\n",
    "\n",
    "# Poisson distribution\n",
    "poisson1_jul = poisson.pmf(x,lambda_jul)\n",
    "poisson1_aug = poisson.pmf(x,lambda_aug)\n",
    "\n",
    "# 2) What is the probability of 20 rainy days in the 2 month period? \n",
    "x = 20\n",
    "n = days_jul + days_aug\n",
    "N = n*n_years\n",
    "k = total_rain_days_jul + total_rain_days_aug\n",
    "p = k/N\n",
    "lambda_total = n*p\n",
    "\n",
    "# Hypergeometric distribution\n",
    "hyper2 = hypergeom.pmf(x,N,n,k)\n",
    "\n",
    "# Binomial distribution\n",
    "binomial2 = binom.pmf(x,n,p)\n",
    "\n",
    "# Poisson distribution\n",
    "poisson2 = poisson.pmf(x,lambda_total)\n",
    "\n",
    "print('The probability of 10 rainy days in July is:')\n",
    "print('Hypergeometric method: %.4f' %hyper1_jul)\n",
    "print('Binomial method: %.4f' %binomial1_jul)\n",
    "print('Poisson method: %.4f \\n' %poisson1_jul)\n",
    "\n",
    "print('The probability of 10 rainy days in August is:')\n",
    "print('Hypergeometric method: %.4f' %hyper1_aug)\n",
    "print('Binomial method: %.4f' %binomial1_aug)\n",
    "print('Poisson method: %.4f \\n' %poisson1_aug)\n",
    "\n",
    "print('The probability of 20 rainy days in the 2 month period is:')\n",
    "print('Hypergeometric method: %.4f' %hyper2)\n",
    "print('Binomial method: %.4f' %binomial2)\n",
    "print('Poisson method: %.4f \\n' %poisson2)"
   ]
  },
  {
   "cell_type": "markdown",
   "metadata": {
    "collapsed": true
   },
   "source": [
    "##### b) Which assumptions in each method are likely violated by this problem?"
   ]
  },
  {
   "cell_type": "markdown",
   "metadata": {},
   "source": [
    "In all the methods we are simply looking at statistics, and not looking at whether rainy days are dependent on each other or not, because of low pressures or something like this. We are assuming that the rainy days are independent of each other, which is probably not a very good assumption. \n",
    "\n",
    "However, in the binomial and the Poisson method we are additionally assuming that the probability of rain each day is constant, i. e. that our trials are independent of each other in that we have \"replacement\" for each trial. The hypergeometric method does not assume this, it does not have constant probability. Instead, the probability of rain days becomes effected by how many rain days we have already had previously in the month - if it has already rained alot, it becomes less likely that it will rain the rest of the month. This is a good assumption (provided that we are only interested in the statistics, and not in the physics behind). The assumption of the binomial and the Poisson method that the probability is constant is likely to violated.\n",
    "\n",
    "In the Poisson method we additionally assume that the product of n and p will remain constant so the expected number of occurence in any total time interval remains the same. This is not necessarily a good assumption either."
   ]
  },
  {
   "cell_type": "markdown",
   "metadata": {
    "collapsed": true
   },
   "source": [
    "##### c) What is the probability that the sixth rainy day of August occurs on 30 August?"
   ]
  },
  {
   "cell_type": "code",
   "execution_count": null,
   "metadata": {},
   "outputs": [],
   "source": []
  },
  {
   "cell_type": "markdown",
   "metadata": {},
   "source": [
    "#### Question 2\n",
    "Some politician (who obviously did not go a statistic course) tells the public that the town will be\n",
    "well prepared to tackle the problems associated with a 10-year flood and that there is nothing to\n",
    "worry about for the next 9 years. In 10th year, when the flood will occur as he says, the local\n",
    "flood protection authority will have prepared everything. Compute the probability that the\n",
    "politician actually is right and that the 10-year flood occurs in tenth year for the first time."
   ]
  },
  {
   "cell_type": "code",
   "execution_count": 134,
   "metadata": {},
   "outputs": [
    {
     "name": "stdout",
     "output_type": "stream",
     "text": [
      "The probability that the flood occurs in the tenth year for the first time is: 3.87 percent\n"
     ]
    }
   ],
   "source": [
    "p = 0.10 # Probability of a ten year flood (constant)\n",
    "x = 1    # Number of flood occurence\n",
    "n = 10   # Number of years\n",
    "\n",
    "# Finding the probabilility of the flood occuring one time in the next ten year\n",
    "prob_one_flood = binom.pmf(x,n,p)\n",
    "\n",
    "# I have know found the probability of only flood occuring any year in the next ten years.\n",
    "# However, the scenario where the flood occures in the last year is only one of the ten possible scenarios.\n",
    "# To find the probability of the flood occuring the last year, I divide by number of years.\n",
    "prob_last_year = prob_one_flood/n\n",
    "\n",
    "print('The probability that the flood occurs in the tenth year for the first time is: %0.2f percent' %(prob_last_year*100))"
   ]
  },
  {
   "cell_type": "markdown",
   "metadata": {},
   "source": [
    "#### Question 3\n",
    "Assume that the annual maxima discharges in a river station are normally distributed with a mean\n",
    "of 75 m$^3$/s and a standard deviation of 10 m$^3$/s. What is the probability for any given year to have\n",
    "a maximum flow that is\n",
    "\n",
    "a) less than 70 m$^3$/s?\n",
    "\n",
    "b) larger than 95 m$^3$/s?\n",
    "\n",
    "c) between 60 and 80 m$^3$/s?\n",
    "\n",
    "d) What is the flow with 90 % chance to not exceed?\n",
    "\n",
    "e) What is the flow with 80 % chance to exceed?\n",
    "\n",
    "f) In which interval (centred on the mean) would 50 % of the flows fall?\n",
    "\n",
    " * Hint:You may use the following  functions to find the probability/quantile of our distribution:\n",
    "     * *scipy.stats.norm(mean, sd).cdf(quantile)# where quantile is a discharge*\n",
    "     * *scipy.stats.norm(mean, sd).ppf(percentile)#where percentile is a proportion*\n"
   ]
  },
  {
   "cell_type": "code",
   "execution_count": 195,
   "metadata": {},
   "outputs": [
    {
     "name": "stdout",
     "output_type": "stream",
     "text": [
      "a) The probability of the maximum flow being less than 70 m³/s is 0.309\n",
      "b) The probability of the maximum flow being larger than 95 m³/s is 0.023\n",
      "c) The probability of the maximum flow being between 60  and 80 m³/s is 0.625\n",
      "d) The flow with a 90 percent chance to not exceed is 87.8 m³/s\n",
      "e) The flow with a 80 percent chance to exceed is 66.6 m³/s\n",
      "f) The interval where 50 percent of the flows fall is between 68.3 m³/s and 81.7 m³/s and the deviation from the mean is 6.7 m³/s on both sides\n"
     ]
    }
   ],
   "source": [
    "mu = 75 # [m³/s], Mean of annual maxima river discharges\n",
    "sigma = 10 # [m³/s] Standard deviation of annual maxima river discharges\n",
    "discharge = norm(mu,sigma)\n",
    "\n",
    "\n",
    "prob_less_70 = discharge.cdf(70) # The probability of the maximum flow being less than 70 m³/s\n",
    "prob_larger_95 = 1 - discharge.cdf(95) # The probability of the maximum flow being larger than 95 m³/s\n",
    "prob_between_60_80 = discharge.cdf(80) - discharge.cdf(60) # The probability of the maximum flow being between 60  and 80 m³/s\n",
    "flow_90_not_exceed = discharge.ppf(0.90) # The flow with 90 % chance to not exceed\n",
    "flow_80_exceed = discharge.ppf(1 - 0.80) # The flow with 80 % chance to exceed\n",
    "\n",
    "flow_interval_start = discharge.ppf(0.25) # The flow with a 25 % chance not to exceed (start of interval)\n",
    "flow_interval_end = discharge.ppf(0.75) # The flow with a 75 % chance not to exceed (end of interval)\n",
    "deviation_from_mean = (flow_interval_end - flow_interval_start)/2. # The length of the interval from the mean\n",
    "\n",
    "print('a) The probability of the maximum flow being less than 70 m³/s is %.3f' %prob_less_70)\n",
    "print('b) The probability of the maximum flow being larger than 95 m³/s is %.3f' %prob_larger_95)\n",
    "print('c) The probability of the maximum flow being between 60  and 80 m³/s is %.3f' %prob_between_60_80)\n",
    "print('d) The flow with a 90 percent chance to not exceed is %.1f m³/s' %flow_90_not_exceed)\n",
    "print('e) The flow with a 80 percent chance to exceed is %.1f m³/s' %flow_80_exceed)\n",
    "print('f) The interval where 50 percent of the flows fall is between %.1f m³/s' %flow_interval_start, \n",
    "      'and %.1f m³/s' %flow_interval_end, 'and the deviation from the mean is %.1f m³/s on both sides' \n",
    "      %deviation_from_mean)"
   ]
  },
  {
   "cell_type": "markdown",
   "metadata": {},
   "source": [
    "#### Question 4\n",
    "Plot the individual terms of the Poisson distribution for λ  = 3. Approximate the Poisson by the normal and plot the normal approximations on the same graph. Optional: Do the same but with λ = 8."
   ]
  },
  {
   "cell_type": "code",
   "execution_count": 224,
   "metadata": {},
   "outputs": [
    {
     "data": {
      "image/png": "[encoded data removed]",
      "text/plain": [
       "<Figure size 432x288 with 1 Axes>"
      ]
     },
     "metadata": {
      "needs_background": "light"
     },
     "output_type": "display_data"
    }
   ],
   "source": [
    "for lambd in [3.,8.]:\n",
    "    my_mean = lambd\n",
    "    my_std = np.sqrt(lambd)\n",
    "    x = np.linspace(0,my_mean+5*my_std,100)\n",
    "    #plt.scatter(x,poisson.pmf(np.round(x),lambd))#, linewidth=3, label='poisson, lambda=%.0f' %lambd)\n",
    "    plt.plot(x,poisson.pmf(np.round(x),lambd), linewidth=3, label='poisson, lambda=%.0f' %lambd)\n",
    "    plt.plot(x,norm.pdf(x,my_mean,my_std), linewidth=1, label= 'normal, mean=%.0f' %lambd)\n",
    "    plt.xlabel('x')\n",
    "    plt.ylabel('Probability Density')\n",
    "    plt.legend()"
   ]
  }
 ],
 "metadata": {
  "anaconda-cloud": {},
  "kernelspec": {
   "display_name": "Python 3",
   "language": "python",
   "name": "python3"
  },
  "language_info": {
   "codemirror_mode": {
    "name": "ipython",
    "version": 3
   },
   "file_extension": ".py",
   "mimetype": "text/x-python",
   "name": "python",
   "nbconvert_exporter": "python",
   "pygments_lexer": "ipython3",
   "version": "3.8.2"
  }
 },
 "nbformat": 4,
 "nbformat_minor": 1
}
