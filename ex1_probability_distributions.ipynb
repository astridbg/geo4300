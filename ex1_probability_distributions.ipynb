{
 "cells": [
  {
   "cell_type": "markdown",
   "metadata": {},
   "source": [
    "# Ex 1: Basic concepts on random variables and probability distributions"
   ]
  },
  {
   "cell_type": "markdown",
   "metadata": {},
   "source": [
    "## Introduction\n",
    "This notebook includes a series of cells with code (Python) and descriptive text (markdown) and provides a number of exercises. Work through the exercises and add, as appropriate, new cells with your code \n",
    "or descriptive text to answer the questions. All required data are provided in your exercise folder.\n",
    "\n",
    "To submit your work, follow the steps '**Before you submit**' and '**How to submit**' in the *intro2notebook.ipynb* file contained in the *ex0_introduction_to_python.zip*.\n",
    "\n",
    "Please note, that this is the same for all following exercises."
   ]
  },
  {
   "cell_type": "markdown",
   "metadata": {},
   "source": [
    "### Part I: Basic statistics and probability calculation"
   ]
  },
  {
   "cell_type": "code",
   "execution_count": 93,
   "metadata": {},
   "outputs": [],
   "source": [
    "#First import some of the basic python packages we want to use:\n",
    "import pandas as pd\n",
    "import matplotlib.pyplot as plt\n",
    "import numpy as np\n",
    "from scipy.stats import hypergeom, binom, poisson\n",
    "import math\n",
    "%matplotlib inline"
   ]
  },
  {
   "cell_type": "markdown",
   "metadata": {},
   "source": [
    "#### Question 1\n",
    "\n",
    "From monthly data (file *P_uppmonth1.dat*): compute for each month (column wise) mean, median, mode, standard deviation, coefficient of variation, minimum and maximum. Plot these values (except the mode) to show the annual variation. Note that coefficient of variation has a different unit than the other statistics, and thus needs to be plotted in a separate figure."
   ]
  },
  {
   "cell_type": "code",
   "execution_count": 2,
   "metadata": {},
   "outputs": [],
   "source": [
    "# Basic statistics can be easily calculated by defining DataFrames in pandas (like we did above)\n",
    "\n",
    "# To add all of the values in a particular column of a DataFrame (or a Series), you can do the following:\n",
    "# df[‘column_name’].sum()\n",
    "\n",
    "\n",
    "# Note: Passing the argument of axis=0 returns the mean of every single column in the DataFrame; e.g. df.mean(axis=0)\n",
    "#       Passing the argument of axis=1 returns the mean of every single  row   in the DataFrame; e.g. df.mean(axis=1)"
   ]
  },
  {
   "cell_type": "code",
   "execution_count": 3,
   "metadata": {
    "scrolled": false
   },
   "outputs": [
    {
     "data": {
      "text/html": [
       "<div>\n",
       "<style scoped>\n",
       "    .dataframe tbody tr th:only-of-type {\n",
       "        vertical-align: middle;\n",
       "    }\n",
       "\n",
       "    .dataframe tbody tr th {\n",
       "        vertical-align: top;\n",
       "    }\n",
       "\n",
       "    .dataframe thead th {\n",
       "        text-align: right;\n",
       "    }\n",
       "</style>\n",
       "<table border=\"1\" class=\"dataframe\">\n",
       "  <thead>\n",
       "    <tr style=\"text-align: right;\">\n",
       "      <th></th>\n",
       "      <th>Jan</th>\n",
       "      <th>Feb</th>\n",
       "      <th>Mar</th>\n",
       "      <th>Apr</th>\n",
       "      <th>May</th>\n",
       "      <th>Jun</th>\n",
       "      <th>Jul</th>\n",
       "      <th>Aug</th>\n",
       "      <th>Sep</th>\n",
       "      <th>Oct</th>\n",
       "      <th>Nov</th>\n",
       "      <th>Dec</th>\n",
       "    </tr>\n",
       "    <tr>\n",
       "      <th>year</th>\n",
       "      <th></th>\n",
       "      <th></th>\n",
       "      <th></th>\n",
       "      <th></th>\n",
       "      <th></th>\n",
       "      <th></th>\n",
       "      <th></th>\n",
       "      <th></th>\n",
       "      <th></th>\n",
       "      <th></th>\n",
       "      <th></th>\n",
       "      <th></th>\n",
       "    </tr>\n",
       "  </thead>\n",
       "  <tbody>\n",
       "    <tr>\n",
       "      <th>1981</th>\n",
       "      <td>32</td>\n",
       "      <td>26</td>\n",
       "      <td>62</td>\n",
       "      <td>22</td>\n",
       "      <td>23</td>\n",
       "      <td>98</td>\n",
       "      <td>80</td>\n",
       "      <td>163</td>\n",
       "      <td>13</td>\n",
       "      <td>122</td>\n",
       "      <td>144</td>\n",
       "      <td>109</td>\n",
       "    </tr>\n",
       "    <tr>\n",
       "      <th>1982</th>\n",
       "      <td>42</td>\n",
       "      <td>30</td>\n",
       "      <td>54</td>\n",
       "      <td>50</td>\n",
       "      <td>192</td>\n",
       "      <td>37</td>\n",
       "      <td>52</td>\n",
       "      <td>77</td>\n",
       "      <td>48</td>\n",
       "      <td>46</td>\n",
       "      <td>74</td>\n",
       "      <td>52</td>\n",
       "    </tr>\n",
       "    <tr>\n",
       "      <th>1983</th>\n",
       "      <td>78</td>\n",
       "      <td>10</td>\n",
       "      <td>107</td>\n",
       "      <td>46</td>\n",
       "      <td>36</td>\n",
       "      <td>105</td>\n",
       "      <td>80</td>\n",
       "      <td>25</td>\n",
       "      <td>188</td>\n",
       "      <td>58</td>\n",
       "      <td>36</td>\n",
       "      <td>78</td>\n",
       "    </tr>\n",
       "    <tr>\n",
       "      <th>1984</th>\n",
       "      <td>72</td>\n",
       "      <td>29</td>\n",
       "      <td>34</td>\n",
       "      <td>11</td>\n",
       "      <td>29</td>\n",
       "      <td>97</td>\n",
       "      <td>67</td>\n",
       "      <td>51</td>\n",
       "      <td>145</td>\n",
       "      <td>114</td>\n",
       "      <td>51</td>\n",
       "      <td>51</td>\n",
       "    </tr>\n",
       "    <tr>\n",
       "      <th>1985</th>\n",
       "      <td>83</td>\n",
       "      <td>37</td>\n",
       "      <td>42</td>\n",
       "      <td>69</td>\n",
       "      <td>23</td>\n",
       "      <td>25</td>\n",
       "      <td>104</td>\n",
       "      <td>50</td>\n",
       "      <td>76</td>\n",
       "      <td>53</td>\n",
       "      <td>74</td>\n",
       "      <td>63</td>\n",
       "    </tr>\n",
       "  </tbody>\n",
       "</table>\n",
       "</div>"
      ],
      "text/plain": [
       "      Jan  Feb  Mar  Apr  May  Jun  Jul  Aug  Sep  Oct  Nov  Dec\n",
       "year                                                            \n",
       "1981   32   26   62   22   23   98   80  163   13  122  144  109\n",
       "1982   42   30   54   50  192   37   52   77   48   46   74   52\n",
       "1983   78   10  107   46   36  105   80   25  188   58   36   78\n",
       "1984   72   29   34   11   29   97   67   51  145  114   51   51\n",
       "1985   83   37   42   69   23   25  104   50   76   53   74   63"
      ]
     },
     "execution_count": 3,
     "metadata": {},
     "output_type": "execute_result"
    }
   ],
   "source": [
    "# Reading the monthly data file\n",
    "monthly_data = pd.read_csv('P_uppmonth1.dat',index_col = 0, sep=\"\\t\") # reading the file with monthly data\n",
    "monthly_data.head()"
   ]
  },
  {
   "cell_type": "code",
   "execution_count": 4,
   "metadata": {},
   "outputs": [],
   "source": [
    "# Calculating monthly variables\n",
    "monthly_mean = monthly_data.mean(axis=0) # calculating monthly mean\n",
    "monthly_median = monthly_data.median(axis=0) # calculating monthly median\n",
    "monthly_mode = monthly_data.mode(axis=0) # calculating monthly mode\n",
    "monthly_std = monthly_data.std(axis=0) # calculating monthly standard deviation\n",
    "monthly_cv = monthly_std/monthly_mean # calculating monthly coefficient of variation\n",
    "monthly_min = monthly_data.min(axis=0) # calculating monthly minimum\n",
    "monthly_max = monthly_data.max(axis=0) # calculating monthly maximum"
   ]
  },
  {
   "cell_type": "code",
   "execution_count": 5,
   "metadata": {},
   "outputs": [
    {
     "data": {
      "image/png": "[encoded data removed]",
      "text/plain": [
       "<Figure size 432x288 with 1 Axes>"
      ]
     },
     "metadata": {
      "needs_background": "light"
     },
     "output_type": "display_data"
    },
    {
     "data": {
      "image/png": "[encoded data removed]",
      "text/plain": [
       "<Figure size 432x288 with 1 Axes>"
      ]
     },
     "metadata": {
      "needs_background": "light"
     },
     "output_type": "display_data"
    }
   ],
   "source": [
    "# Making plots to show the annual variation\n",
    "plt.title('Annual Precipation Variation in Uppsala')\n",
    "plt.plot(monthly_mean, label='Mean')\n",
    "plt.plot(monthly_median, label='Median')\n",
    "plt.plot(monthly_std, label='Standard Deviation')\n",
    "plt.plot(monthly_min, label='Minimum')\n",
    "plt.plot(monthly_max, label='Maximum') \n",
    "plt.legend(loc='best')\n",
    "plt.ylabel('Monthly precipitation [mm]')\n",
    "plt.show()\n",
    "\n",
    "plt.title('Coefficient of Variation')\n",
    "plt.plot(monthly_cv)\n",
    "plt.ylabel('Ratio of standard deviation to mean')\n",
    "plt.show()"
   ]
  },
  {
   "cell_type": "markdown",
   "metadata": {},
   "source": [
    "#### Question 2\n",
    "\n",
    "For daily data (file *P_Uppsala.dat*, values in [mm]): Estimate the probability for daily precipitation that\n",
    "\n",
    "1. Equal zero\n",
    "2. more than zero\n",
    "3. more than 10 mm\n",
    "4. more than 10 mm for days with precipitation"
   ]
  },
  {
   "cell_type": "code",
   "execution_count": 6,
   "metadata": {},
   "outputs": [
    {
     "data": {
      "text/html": [
       "<div>\n",
       "<style scoped>\n",
       "    .dataframe tbody tr th:only-of-type {\n",
       "        vertical-align: middle;\n",
       "    }\n",
       "\n",
       "    .dataframe tbody tr th {\n",
       "        vertical-align: top;\n",
       "    }\n",
       "\n",
       "    .dataframe thead th {\n",
       "        text-align: right;\n",
       "    }\n",
       "</style>\n",
       "<table border=\"1\" class=\"dataframe\">\n",
       "  <thead>\n",
       "    <tr style=\"text-align: right;\">\n",
       "      <th></th>\n",
       "      <th>3</th>\n",
       "    </tr>\n",
       "    <tr>\n",
       "      <th>0_1_2</th>\n",
       "      <th></th>\n",
       "    </tr>\n",
       "  </thead>\n",
       "  <tbody>\n",
       "    <tr>\n",
       "      <th>1981-01-01</th>\n",
       "      <td>1.5</td>\n",
       "    </tr>\n",
       "    <tr>\n",
       "      <th>1981-01-02</th>\n",
       "      <td>0.0</td>\n",
       "    </tr>\n",
       "    <tr>\n",
       "      <th>1981-01-03</th>\n",
       "      <td>0.0</td>\n",
       "    </tr>\n",
       "    <tr>\n",
       "      <th>1981-01-04</th>\n",
       "      <td>0.4</td>\n",
       "    </tr>\n",
       "    <tr>\n",
       "      <th>1981-01-05</th>\n",
       "      <td>0.0</td>\n",
       "    </tr>\n",
       "  </tbody>\n",
       "</table>\n",
       "</div>"
      ],
      "text/plain": [
       "              3\n",
       "0_1_2          \n",
       "1981-01-01  1.5\n",
       "1981-01-02  0.0\n",
       "1981-01-03  0.0\n",
       "1981-01-04  0.4\n",
       "1981-01-05  0.0"
      ]
     },
     "execution_count": 6,
     "metadata": {},
     "output_type": "execute_result"
    },
    {
     "data": {
      "image/png": "[encoded data removed]",
      "text/plain": [
       "<Figure size 432x288 with 1 Axes>"
      ]
     },
     "metadata": {
      "needs_background": "light"
     },
     "output_type": "display_data"
    }
   ],
   "source": [
    "# Reading the daily data file\n",
    "daily_data = pd.read_csv('P_Uppsala.dat',index_col = 0, parse_dates = [[0, 1, 2]], sep=\"\\t\", header=None)\n",
    "plt.plot(daily_data)\n",
    "daily_data.head()"
   ]
  },
  {
   "cell_type": "code",
   "execution_count": 7,
   "metadata": {},
   "outputs": [],
   "source": [
    "# Finding the size of the sample\n",
    "n = float(np.size(daily_data))\n",
    "# Finding the number of days with zero rain\n",
    "nr_of_zeros = daily_data == 0.0 # Boolean array with days with zero rain as 'True'\n",
    "n_zeros = np.sum(nr_of_zeros).iloc[0]\n",
    "# Finding the number of days with rain (more than zero)\n",
    "n_rain = n - n_zeros\n",
    "# Finding the number of days with more than 10 mm rain\n",
    "n_10mm = np.sum(daily_data >= 10.0).iloc[0]"
   ]
  },
  {
   "cell_type": "code",
   "execution_count": 8,
   "metadata": {},
   "outputs": [
    {
     "name": "stdout",
     "output_type": "stream",
     "text": [
      "--- Estimated probabilities: ---\n",
      "Probability of 0 mm precipitation: 52.83 %\n",
      "Probability of more than 0 mm precipitation: 47.17 %\n",
      "Probability of more than 10 mm precipitation: 5.95 %\n",
      "Probability of more than 10 mm for days with precipitation: 12.61 %\n"
     ]
    }
   ],
   "source": [
    "# Making probability estimations\n",
    "p_zero = n_zeros/n # The estimated probability of zero precipitation\n",
    "p_rain = n_rain/n # The estimated probability of more than zero precipitation\n",
    "p_10mm = n_10mm/n # The estimated probability of more than 10 mm precipitation\n",
    "p_10mm_if_rain = n_10mm/n_rain # The estimated probability of more than 10 mm for days with precipitation\n",
    "print('--- Estimated probabilities: ---')\n",
    "print('Probability of 0 mm precipitation: %.2f' %(p_zero*100), '%')\n",
    "print('Probability of more than 0 mm precipitation: %.2f' %(p_rain*100), '%')\n",
    "print('Probability of more than 10 mm precipitation: %.2f' %(p_10mm*100), '%')\n",
    "print('Probability of more than 10 mm for days with precipitation: %.2f' %(p_10mm_if_rain*100), '%')"
   ]
  },
  {
   "cell_type": "markdown",
   "metadata": {},
   "source": [
    "#### Question 3\n",
    "\n",
    "From the daily data, calculate the maximum 1-day, 3-day and 5-day average rainfall amount, and state the date/period.\n",
    "\n",
    "*Hint: to compute average over x days, you can check out the pandas dataframe method rolling().*"
   ]
  },
  {
   "cell_type": "code",
   "execution_count": 9,
   "metadata": {},
   "outputs": [
    {
     "name": "stdout",
     "output_type": "stream",
     "text": [
      "Maximum daily rainfall amount: 136.60 mm.  Date: 1982-05-21 00:00:00\n",
      "Maximum 3-day average rainfall amount: 47.40 mm.  Following date: 1982-05-23 00:00:00\n",
      "Maximum 3-day average rainfall amount: 29.72 mm.  Following date: 1982-05-24 00:00:00\n"
     ]
    }
   ],
   "source": [
    "# Calculating the 1-day maximum amount\n",
    "one_day_max = daily_data.max().iloc[0]\n",
    "one_day_max_date = daily_data.idxmax().iloc[0] # Returns the date of the maximum 1-day average rainfall amount\n",
    "\n",
    "# Calculating the 3-day maximum amount\n",
    "three_day_avg = daily_data.rolling(3).sum()/3. # Array of average rainfall for the last three days each day\n",
    "three_day_max = three_day_avg.max().iloc[0] \n",
    "three_day_max_date = three_day_avg.idxmax().iloc[0] # Returns the date of the maximum 3-day average rainfall amount\n",
    "\n",
    "# Calculating the 5-day maximum amount\n",
    "five_day_avg = daily_data.rolling(5).sum()/5. # Array of average rainfall for the last five days each day\n",
    "five_day_max = five_day_avg.max().iloc[0] \n",
    "five_day_max_date = five_day_avg.idxmax().iloc[0] # Returns the date of the maximum 5-day average rainfall amount\n",
    "\n",
    "print('Maximum daily rainfall amount: %.2f mm.' %one_day_max, ' Date: %s' %one_day_max_date)\n",
    "print('Maximum 3-day average rainfall amount: %.2f mm.' %three_day_max, ' Following date: %s' %three_day_max_date)\n",
    "print('Maximum 3-day average rainfall amount: %.2f mm.' %five_day_max, ' Following date: %s' %five_day_max_date)"
   ]
  },
  {
   "cell_type": "markdown",
   "metadata": {},
   "source": [
    "The maximum rainfall amount in the daily data is 136 mm, which occured on May 21 in 1982. \n",
    "The maximum 3-day average rainfall amount is 47.40 mm, which occured in the period May 20 to May 22 in 1982.\n",
    "The maximum 5-day average rainfall amount is 29.72 mm, which occured in the period May 19 to May 23 in 1982.\n",
    "\n",
    "We can see that these maxima are all from the same time period, and perhaps correspond to the same extreme precipitation event."
   ]
  },
  {
   "cell_type": "markdown",
   "metadata": {},
   "source": [
    "#### Question 4\n",
    "\n",
    "What is the maximum dry-spell days and the maximum wet-spell days of daily rainfall? When do they occur?"
   ]
  },
  {
   "cell_type": "code",
   "execution_count": 83,
   "metadata": {},
   "outputs": [
    {
     "name": "stdout",
     "output_type": "stream",
     "text": [
      "The maximum dry-spell days is 23 days 00:00:00, and occures on 1981-05-25 00:00:00.\n",
      "The maximum wet-spell days is 24 days 00:00:00, and occures on 1988-02-13 00:00:00.\n"
     ]
    }
   ],
   "source": [
    "# Creating separate dry and wet days arrays\n",
    "dry_days = daily_data[daily_data == 0].dropna() # Creating array with only days without precipitation \n",
    "wet_days = daily_data[daily_data > 0].dropna() # Creating array with only days with precipitation \n",
    "\n",
    "# Finding the difference between the dates in the arrays\n",
    "dry_spell_days = wet_days.index.to_series().diff() # The dry-pell days are the differences between wet days\n",
    "wet_spell_days = dry_days.index.to_series().diff() # The wet-spell days are the differences between dry days\n",
    "\n",
    "# Finding the maximum of the dry-spell days and wet-spell days, and corresponding days\n",
    "max_dry_spell_days = dry_spell_days.max()\n",
    "max_dry_spell_days_date = dry_spell_days.idxmax()\n",
    "max_wet_spell_days = wet_spell_days.max()\n",
    "max_wet_spell_days_date = wet_spell_days.idxmax()\n",
    "\n",
    "print('The maximum dry-spell days is %s, and occures on %s.' %(max_dry_spell_days, max_dry_spell_days_date))\n",
    "print('The maximum wet-spell days is %s, and occures on %s.' %(max_wet_spell_days, max_wet_spell_days_date))"
   ]
  },
  {
   "cell_type": "markdown",
   "metadata": {},
   "source": [
    "#### Question 5\n",
    "\n",
    "The depth of clarity of Lake Tahoe was measured at several different places with the results in inches is available in the file *Tahoe.dat*.\n",
    "\n",
    "1. Plot the histogram (relative frequency) with class intervals of length 5.\n",
    "2. Plot the cumulative relative frequency and estimate Prob(D≤40)≈? and Prob(15≤D≤30) ≈?"
   ]
  },
  {
   "cell_type": "code",
   "execution_count": 17,
   "metadata": {},
   "outputs": [
    {
     "data": {
      "text/html": [
       "<div>\n",
       "<style scoped>\n",
       "    .dataframe tbody tr th:only-of-type {\n",
       "        vertical-align: middle;\n",
       "    }\n",
       "\n",
       "    .dataframe tbody tr th {\n",
       "        vertical-align: top;\n",
       "    }\n",
       "\n",
       "    .dataframe thead th {\n",
       "        text-align: right;\n",
       "    }\n",
       "</style>\n",
       "<table border=\"1\" class=\"dataframe\">\n",
       "  <thead>\n",
       "    <tr style=\"text-align: right;\">\n",
       "      <th></th>\n",
       "      <th>0</th>\n",
       "    </tr>\n",
       "  </thead>\n",
       "  <tbody>\n",
       "    <tr>\n",
       "      <th>0</th>\n",
       "      <td>15.4</td>\n",
       "    </tr>\n",
       "    <tr>\n",
       "      <th>1</th>\n",
       "      <td>16.7</td>\n",
       "    </tr>\n",
       "    <tr>\n",
       "      <th>2</th>\n",
       "      <td>16.9</td>\n",
       "    </tr>\n",
       "    <tr>\n",
       "      <th>3</th>\n",
       "      <td>17.0</td>\n",
       "    </tr>\n",
       "    <tr>\n",
       "      <th>4</th>\n",
       "      <td>20.2</td>\n",
       "    </tr>\n",
       "  </tbody>\n",
       "</table>\n",
       "</div>"
      ],
      "text/plain": [
       "      0\n",
       "0  15.4\n",
       "1  16.7\n",
       "2  16.9\n",
       "3  17.0\n",
       "4  20.2"
      ]
     },
     "execution_count": 17,
     "metadata": {},
     "output_type": "execute_result"
    }
   ],
   "source": [
    "# Reading the Lake Tahoe depth data file\n",
    "Tahoe_data = pd.read_csv('Tahoe.dat',header=None)\n",
    "Tahoe_data.head()"
   ]
  },
  {
   "cell_type": "code",
   "execution_count": 91,
   "metadata": {},
   "outputs": [
    {
     "data": {
      "image/png": "[encoded data removed]",
      "text/plain": [
       "<Figure size 432x288 with 1 Axes>"
      ]
     },
     "metadata": {
      "needs_background": "light"
     },
     "output_type": "display_data"
    }
   ],
   "source": [
    "# Plotting the relative frequency as histogram\n",
    "n = np.size(Tahoe_data) \n",
    "bins = np.linspace(15,55,9)\n",
    "hist = Tahoe_data.plot.hist(bins=bins, weights=np.zeros_like(Tahoe_data) + 1. / n)\n",
    "hist.set_ylabel('Relative Frequency')\n",
    "hist.set_xlabel('Depth [m]')\n",
    "plt.title('Tahoe Lake Depth Measurements')\n",
    "plt.grid()"
   ]
  },
  {
   "cell_type": "code",
   "execution_count": 92,
   "metadata": {},
   "outputs": [
    {
     "data": {
      "image/png": "[encoded data removed]",
      "text/plain": [
       "<Figure size 432x288 with 1 Axes>"
      ]
     },
     "metadata": {
      "needs_background": "light"
     },
     "output_type": "display_data"
    }
   ],
   "source": [
    "# Plotting the cumulative relative frequency\n",
    "bins = np.linspace(15,55,9)\n",
    "cumhist = Tahoe_data.plot.hist(bins=bins,density=True,cumulative=True)\n",
    "cumhist.set_ylabel('Cumulative Relative Frequency')\n",
    "cumhist.set_xlabel('Depth [m]')\n",
    "plt.title('Tahoe Lake Depth Measurements')\n",
    "plt.grid()"
   ]
  },
  {
   "cell_type": "code",
   "execution_count": null,
   "metadata": {},
   "outputs": [],
   "source": [
    "# Estimating probabilities\n"
   ]
  },
  {
   "cell_type": "markdown",
   "metadata": {},
   "source": [
    "####  Question 6\n",
    "\n",
    "The frequency function for a continuous stochastic variable is shown below. Solve the problems analytically\n",
    "\n",
    "$$\n",
    "f(x) = \\left\\{\n",
    "        \\begin{array}{ll}\n",
    "            cx^2 & \\quad 0 < x < 1 \\\\\n",
    "            0 & \\quad \\text{otherwise}\n",
    "        \\end{array}\n",
    "    \\right.\n",
    "$$\n",
    "\n",
    "\n",
    "1. Find the value for c so that f(x) becomes a density function. Use that $\\int_{-\\infty }^{\\infty }f(x)dx$ = 1\n",
    "$$$$\n",
    "\n",
    "2. Find the distribution function, F(x)\n",
    "3. Calculate Prob(x < 0), Prob(x = 0.5), Prob(x > 1), Prob(0<=x<=0.5) and Prob(0<x< 0.5)\n",
    "4. Find the median\n",
    "5. Find the mode\n",
    "6. Calculate the expectation, E(x)\n",
    "7. Calculate the variance, Var(x)"
   ]
  },
  {
   "cell_type": "markdown",
   "metadata": {},
   "source": []
  },
  {
   "cell_type": "markdown",
   "metadata": {},
   "source": [
    "### Part II: Probability distribution"
   ]
  },
  {
   "cell_type": "markdown",
   "metadata": {
    "collapsed": true
   },
   "source": [
    "#### Question 1.\n",
    "The number of rainy days in July and August at a meteorological station is given in the table below.\n",
    "\n",
    "\n",
    "Year|1|2|3|4|5|6|7|8|9|10|\n",
    "-|-|-|-|-|-|-|-|-|-|-|\n",
    "July|10|15|17|8|9|19|17|14|20|4\n",
    "August|4|9|8|3|0|10|12|2|8|6\n",
    "\n",
    "##### a ) Use the Hypergeometric, Binomial and Poisson distributions to calculate \n",
    "1) What is the probability of 10 rainy days in each of the months of July and August? \n",
    "\n",
    "2) What is the probability of 20 rainy days in the 2 month period? \n",
    "\n",
    "*Note: if you wish to use factorial function then you have to import the module 'math' by the command 'import math' then write: math.factorial(x)*\n",
    "\n",
    "\n",
    "* **Hint: Hypergeometric function:**\n",
    "    - import scipy.stats\n",
    "    - from scipy.stats import hypergeom\n",
    "    - hypergeom.pmf(x, N, n, k)\n",
    "    - where\n",
    "        - k is the number of \"successes\" in the population\n",
    "        - x is the number of \"successes\" in the sample\n",
    "        - N is the size of the population\n",
    "        - n is the number sampled\n",
    "\n",
    "* **Hint: Binomial distribution**\n",
    "    - from scipy.stats import binom\n",
    "    - binom.pmf(x,n,p)\n",
    "    - where\n",
    "        - p is the probability of success, and n and x same as for hypergeometric.\n",
    "\n",
    "* **Hint: Poisson Distribution**\n",
    "    - from scipy.stats import poisson\n",
    "    - poisson.pmf(x, λ)\n",
    "    - where\n",
    "        - λ =pn\n"
   ]
  },
  {
   "cell_type": "markdown",
   "metadata": {
    "collapsed": true
   },
   "source": [
    "##### b) Which assumptions in each method are likely violated by this problem?"
   ]
  },
  {
   "cell_type": "markdown",
   "metadata": {
    "collapsed": true
   },
   "source": [
    "##### c) What is the probability that the sixth rainy day of August occurs on 30 August?"
   ]
  },
  {
   "cell_type": "markdown",
   "metadata": {},
   "source": [
    "#### Question 2\n",
    "Some politician (who obviously did not go a statistic course) tells the public that the town will be\n",
    "well prepared to tackle the problems associated with a 10-year flood and that there is nothing to\n",
    "worry about for the next 9 years. In 10th year, when the flood will occur as he says, the local\n",
    "flood protection authority will have prepared everything. Compute the probability that the\n",
    "politician actually is right and that the 10-year flood occurs in tenth year for the first time."
   ]
  },
  {
   "cell_type": "markdown",
   "metadata": {},
   "source": [
    "#### Question 3\n",
    "Assume that the annual maxima discharges in a river station are normally distributed with a mean\n",
    "of 75 m$^3$/s and a standard deviation of 10 m$^3$/s. What is the probability for any given year to have\n",
    "a maximum flow that is\n",
    "\n",
    "a) less than 70 m$^3$/s?\n",
    "\n",
    "b) larger than 95 m$^3$/s?\n",
    "\n",
    "c) between 60 and 80 m$^3$/s?\n",
    "\n",
    "d) What is the flow with 90 % chance to not exceed?\n",
    "\n",
    "e) What is the flow with 80 % chance to exceed?\n",
    "\n",
    "f) In which interval (centred on the mean) would 50 % of the flows fall?\n",
    "\n",
    " * Hint:You may use the following  functions to find the probability/quantile of our distribution:\n",
    "     * *scipy.stats.norm(mean, sd).cdf(quantile)# where quantile is a discharge*\n",
    "     * *scipy.stats.norm(mean, sd).ppf(percentile)#where percentile is a proportion*\n"
   ]
  },
  {
   "cell_type": "markdown",
   "metadata": {},
   "source": [
    "#### Question 4\n",
    "Plot the individual terms of the Poisson distribution for λ  = 3. Approximate the Poisson by the normal and plot the normal approximations on the same graph. Optional: Do the same but with λ = 8."
   ]
  }
 ],
 "metadata": {
  "anaconda-cloud": {},
  "kernelspec": {
   "display_name": "Python 3",
   "language": "python",
   "name": "python3"
  },
  "language_info": {
   "codemirror_mode": {
    "name": "ipython",
    "version": 3
   },
   "file_extension": ".py",
   "mimetype": "text/x-python",
   "name": "python",
   "nbconvert_exporter": "python",
   "pygments_lexer": "ipython3",
   "version": "3.8.2"
  }
 },
 "nbformat": 4,
 "nbformat_minor": 1
}
